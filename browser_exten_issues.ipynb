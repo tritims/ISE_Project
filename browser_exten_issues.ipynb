{
  "nbformat": 4,
  "nbformat_minor": 0,
  "metadata": {
    "colab": {
      "name": "browser_exten_issues.ipynb",
      "provenance": []
    },
    "kernelspec": {
      "name": "python3",
      "display_name": "Python 3"
    },
    "language_info": {
      "name": "python"
    }
  },
  "cells": [
    {
      "cell_type": "code",
      "metadata": {
        "id": "MGSQjBbkufCS"
      },
      "source": [
        "import pandas as pd"
      ],
      "execution_count": null,
      "outputs": []
    },
    {
      "cell_type": "code",
      "metadata": {
        "id": "7pDFcmEk3Poq"
      },
      "source": [
        "from nltk.stem import PorterStemmer"
      ],
      "execution_count": null,
      "outputs": []
    },
    {
      "cell_type": "code",
      "metadata": {
        "id": "f76PJDEF3mRR"
      },
      "source": [
        "ps = PorterStemmer()"
      ],
      "execution_count": null,
      "outputs": []
    },
    {
      "cell_type": "code",
      "metadata": {
        "id": "fqPQnNQLvih5"
      },
      "source": [
        "df = pd.read_pickle('issues_rnd_sample.pkl')"
      ],
      "execution_count": null,
      "outputs": []
    },
    {
      "cell_type": "code",
      "metadata": {
        "id": "5LRRA7T1wgfa"
      },
      "source": [
        "df_t = pd.read_pickle('issues_refined_12_04_21_12_27.pkl')"
      ],
      "execution_count": null,
      "outputs": []
    },
    {
      "cell_type": "code",
      "metadata": {
        "colab": {
          "base_uri": "https://localhost:8080/"
        },
        "id": "r3yr8ylnw7nf",
        "outputId": "f59c3663-08a0-46df-ccac-8ffc526956a4"
      },
      "source": [
        "df_t.shape"
      ],
      "execution_count": null,
      "outputs": [
        {
          "output_type": "execute_result",
          "data": {
            "text/plain": [
              "(29014, 9)"
            ]
          },
          "metadata": {
            "tags": []
          },
          "execution_count": 7
        }
      ]
    },
    {
      "cell_type": "code",
      "metadata": {
        "colab": {
          "base_uri": "https://localhost:8080/",
          "height": 625
        },
        "id": "r1XZFY8ZvpYP",
        "outputId": "aa998472-0d1b-42c1-fb88-4748de6b2996"
      },
      "source": [
        "df_t.head()"
      ],
      "execution_count": null,
      "outputs": [
        {
          "output_type": "execute_result",
          "data": {
            "text/html": [
              "<div>\n",
              "<style scoped>\n",
              "    .dataframe tbody tr th:only-of-type {\n",
              "        vertical-align: middle;\n",
              "    }\n",
              "\n",
              "    .dataframe tbody tr th {\n",
              "        vertical-align: top;\n",
              "    }\n",
              "\n",
              "    .dataframe thead th {\n",
              "        text-align: right;\n",
              "    }\n",
              "</style>\n",
              "<table border=\"1\" class=\"dataframe\">\n",
              "  <thead>\n",
              "    <tr style=\"text-align: right;\">\n",
              "      <th></th>\n",
              "      <th>url</th>\n",
              "      <th>id</th>\n",
              "      <th>number</th>\n",
              "      <th>title</th>\n",
              "      <th>labels</th>\n",
              "      <th>state</th>\n",
              "      <th>created_at</th>\n",
              "      <th>closed_at</th>\n",
              "      <th>body</th>\n",
              "    </tr>\n",
              "  </thead>\n",
              "  <tbody>\n",
              "    <tr>\n",
              "      <th>0</th>\n",
              "      <td>https://api.github.com/repos/johnmichel/Librar...</td>\n",
              "      <td>795439989</td>\n",
              "      <td>189</td>\n",
              "      <td>[jquery, version, detection, appears, incorrect]</td>\n",
              "      <td></td>\n",
              "      <td>closed</td>\n",
              "      <td>2021-01-27T21:00:24Z</td>\n",
              "      <td>2021-01-27T21:24:19Z</td>\n",
              "      <td>[test, url, went, every, j, loaded, page, far,...</td>\n",
              "    </tr>\n",
              "    <tr>\n",
              "      <th>3</th>\n",
              "      <td>https://api.github.com/repos/johnmichel/Librar...</td>\n",
              "      <td>723259346</td>\n",
              "      <td>186</td>\n",
              "      <td>[fix, angularjs, detection, false, positive]</td>\n",
              "      <td></td>\n",
              "      <td>open</td>\n",
              "      <td>2020-10-16T14:07:20Z</td>\n",
              "      <td>None</td>\n",
              "      <td>[angularjs, beginning, versioning, object, rem...</td>\n",
              "    </tr>\n",
              "    <tr>\n",
              "      <th>11</th>\n",
              "      <td>https://api.github.com/repos/johnmichel/Librar...</td>\n",
              "      <td>717018583</td>\n",
              "      <td>178</td>\n",
              "      <td>[error, workbox, library, block]</td>\n",
              "      <td></td>\n",
              "      <td>closed</td>\n",
              "      <td>2020-10-08T04:51:41Z</td>\n",
              "      <td>2021-01-06T14:25:24Z</td>\n",
              "      <td>[running, extension, master, error, workbox, b...</td>\n",
              "    </tr>\n",
              "    <tr>\n",
              "      <th>12</th>\n",
              "      <td>https://api.github.com/repos/johnmichel/Librar...</td>\n",
              "      <td>696283905</td>\n",
              "      <td>177</td>\n",
              "      <td>[updated, script, compatible, firefox]</td>\n",
              "      <td></td>\n",
              "      <td>open</td>\n",
              "      <td>2020-09-09T00:40:59Z</td>\n",
              "      <td>None</td>\n",
              "      <td>[try, chrome, change, suppose, work, correctly...</td>\n",
              "    </tr>\n",
              "    <tr>\n",
              "      <th>16</th>\n",
              "      <td>https://api.github.com/repos/johnmichel/Librar...</td>\n",
              "      <td>654133470</td>\n",
              "      <td>173</td>\n",
              "      <td>[improve, preact, detection, performance]</td>\n",
              "      <td></td>\n",
              "      <td>closed</td>\n",
              "      <td>2020-07-09T15:04:13Z</td>\n",
              "      <td>2020-07-09T21:57:41Z</td>\n",
              "      <td>[fast, path, test, preact, detecting, preact, ...</td>\n",
              "    </tr>\n",
              "  </tbody>\n",
              "</table>\n",
              "</div>"
            ],
            "text/plain": [
              "                                                  url  ...                                               body\n",
              "0   https://api.github.com/repos/johnmichel/Librar...  ...  [test, url, went, every, j, loaded, page, far,...\n",
              "3   https://api.github.com/repos/johnmichel/Librar...  ...  [angularjs, beginning, versioning, object, rem...\n",
              "11  https://api.github.com/repos/johnmichel/Librar...  ...  [running, extension, master, error, workbox, b...\n",
              "12  https://api.github.com/repos/johnmichel/Librar...  ...  [try, chrome, change, suppose, work, correctly...\n",
              "16  https://api.github.com/repos/johnmichel/Librar...  ...  [fast, path, test, preact, detecting, preact, ...\n",
              "\n",
              "[5 rows x 9 columns]"
            ]
          },
          "metadata": {
            "tags": []
          },
          "execution_count": 6
        }
      ]
    },
    {
      "cell_type": "code",
      "metadata": {
        "id": "hlLIeXO33Wlh"
      },
      "source": [
        ""
      ],
      "execution_count": null,
      "outputs": []
    },
    {
      "cell_type": "code",
      "metadata": {
        "id": "8Bc6f3QHyIDP"
      },
      "source": [
        "keys = 'access policy, access role, access-policy, access-role, accesspolicy,  accessrole,  aes,  audit,  authentic,  authority,  authoriz,  biometric,  black  list,  black-list,  blacklist,  blacklist,cbc, certificate, checksum, cipher, clearance, confidentiality,cookie,  crc,  credential,  crypt,  csrf,  decode,  defensive  programming, defensive-programming, delegation, denial of service, denial-of-service, diffie-hellman, dmz, dotfuscator, dsa,ecdsa,  encode,  escrow,  exploit,  firewall,  forge,  forgery,  gssapi,  gss-api,  gssapi,  hack,  hash,  hmac,  honey  pot,  honey-pot,  honeypot,  inject,  integrity,  kerberos,  ldap,  login,  mal-ware,  md5,  nonce,  nss,  oauth,  obfuscat,  open  auth,  open-auth, openauth, openid, owasp, password, pbkdf2, pgp, phishing, pki, privacy, private key, private-key, privatekey, privilege, public key, public-key, publickey, rbac, rc4, repudiation,rfc 2898, rfc-2898, rfc2898, rijndael, rootkit, rsa, salt, saml,sanitiz,  secur,  sha,  shell  code,  shell-code,  shellcode,  shibboleth,  signature,  signed,  signing,  sing  sign-on,  single  signon,  single-sign-on,  smart  assembly,  smart-assembly,  smartassembly,  snif,  spam,  spnego,  spoofing,  spyware,  ssl,  sso,steganography,  tampering,  trojan,  trust,  violat,  virus,  whitelist, white-list, whitelist, x509, xss'"
      ],
      "execution_count": null,
      "outputs": []
    },
    {
      "cell_type": "code",
      "metadata": {
        "id": "GlXGQPlk4Qow"
      },
      "source": [
        "keys = keys.split(',')"
      ],
      "execution_count": null,
      "outputs": []
    },
    {
      "cell_type": "code",
      "metadata": {
        "id": "XvInTBS14aWd"
      },
      "source": [
        "keys = [k.strip() for k in keys]"
      ],
      "execution_count": null,
      "outputs": []
    },
    {
      "cell_type": "code",
      "metadata": {
        "id": "84Yy_ZTG5aMi"
      },
      "source": [
        "df_t['title_stj'] = df_t['title'].apply(lambda x: ' '.join([ps.stem(w) for w in x]))"
      ],
      "execution_count": null,
      "outputs": []
    },
    {
      "cell_type": "code",
      "metadata": {
        "id": "NtUdFIe057s1"
      },
      "source": [
        "df_t['body_stj'] = df_t['body'].apply(lambda x: ' '.join([ps.stem(w) for w in x]))"
      ],
      "execution_count": null,
      "outputs": []
    },
    {
      "cell_type": "code",
      "metadata": {
        "colab": {
          "base_uri": "https://localhost:8080/",
          "height": 643
        },
        "id": "srIQbevP5yZ1",
        "outputId": "f5703f0f-e33a-4a95-89d5-08b127266039"
      },
      "source": [
        "df_t.head()"
      ],
      "execution_count": null,
      "outputs": [
        {
          "output_type": "execute_result",
          "data": {
            "text/html": [
              "<div>\n",
              "<style scoped>\n",
              "    .dataframe tbody tr th:only-of-type {\n",
              "        vertical-align: middle;\n",
              "    }\n",
              "\n",
              "    .dataframe tbody tr th {\n",
              "        vertical-align: top;\n",
              "    }\n",
              "\n",
              "    .dataframe thead th {\n",
              "        text-align: right;\n",
              "    }\n",
              "</style>\n",
              "<table border=\"1\" class=\"dataframe\">\n",
              "  <thead>\n",
              "    <tr style=\"text-align: right;\">\n",
              "      <th></th>\n",
              "      <th>url</th>\n",
              "      <th>id</th>\n",
              "      <th>number</th>\n",
              "      <th>title</th>\n",
              "      <th>labels</th>\n",
              "      <th>state</th>\n",
              "      <th>created_at</th>\n",
              "      <th>closed_at</th>\n",
              "      <th>body</th>\n",
              "      <th>title_stj</th>\n",
              "      <th>body_stj</th>\n",
              "    </tr>\n",
              "  </thead>\n",
              "  <tbody>\n",
              "    <tr>\n",
              "      <th>0</th>\n",
              "      <td>https://api.github.com/repos/johnmichel/Librar...</td>\n",
              "      <td>795439989</td>\n",
              "      <td>189</td>\n",
              "      <td>[jquery, version, detection, appears, incorrect]</td>\n",
              "      <td></td>\n",
              "      <td>closed</td>\n",
              "      <td>2021-01-27T21:00:24Z</td>\n",
              "      <td>2021-01-27T21:24:19Z</td>\n",
              "      <td>[test, url, went, every, j, loaded, page, far,...</td>\n",
              "      <td>jqueri version detect appear incorrect</td>\n",
              "      <td>test url went everi j load page far tell jquer...</td>\n",
              "    </tr>\n",
              "    <tr>\n",
              "      <th>3</th>\n",
              "      <td>https://api.github.com/repos/johnmichel/Librar...</td>\n",
              "      <td>723259346</td>\n",
              "      <td>186</td>\n",
              "      <td>[fix, angularjs, detection, false, positive]</td>\n",
              "      <td></td>\n",
              "      <td>open</td>\n",
              "      <td>2020-10-16T14:07:20Z</td>\n",
              "      <td>None</td>\n",
              "      <td>[angularjs, beginning, versioning, object, rem...</td>\n",
              "      <td>fix angularj detect fals posit</td>\n",
              "      <td>angularj begin version object remov els condit...</td>\n",
              "    </tr>\n",
              "    <tr>\n",
              "      <th>11</th>\n",
              "      <td>https://api.github.com/repos/johnmichel/Librar...</td>\n",
              "      <td>717018583</td>\n",
              "      <td>178</td>\n",
              "      <td>[error, workbox, library, block]</td>\n",
              "      <td></td>\n",
              "      <td>closed</td>\n",
              "      <td>2020-10-08T04:51:41Z</td>\n",
              "      <td>2021-01-06T14:25:24Z</td>\n",
              "      <td>[running, extension, master, error, workbox, b...</td>\n",
              "      <td>error workbox librari block</td>\n",
              "      <td>run extens master error workbox block thrown j...</td>\n",
              "    </tr>\n",
              "    <tr>\n",
              "      <th>12</th>\n",
              "      <td>https://api.github.com/repos/johnmichel/Librar...</td>\n",
              "      <td>696283905</td>\n",
              "      <td>177</td>\n",
              "      <td>[updated, script, compatible, firefox]</td>\n",
              "      <td></td>\n",
              "      <td>open</td>\n",
              "      <td>2020-09-09T00:40:59Z</td>\n",
              "      <td>None</td>\n",
              "      <td>[try, chrome, change, suppose, work, correctly...</td>\n",
              "      <td>updat script compat firefox</td>\n",
              "      <td>tri chrome chang suppos work correctli thank g...</td>\n",
              "    </tr>\n",
              "    <tr>\n",
              "      <th>16</th>\n",
              "      <td>https://api.github.com/repos/johnmichel/Librar...</td>\n",
              "      <td>654133470</td>\n",
              "      <td>173</td>\n",
              "      <td>[improve, preact, detection, performance]</td>\n",
              "      <td></td>\n",
              "      <td>closed</td>\n",
              "      <td>2020-07-09T15:04:13Z</td>\n",
              "      <td>2020-07-09T21:57:41Z</td>\n",
              "      <td>[fast, path, test, preact, detecting, preact, ...</td>\n",
              "      <td>improv preact detect perform</td>\n",
              "      <td>fast path test preact detect preact x site use...</td>\n",
              "    </tr>\n",
              "  </tbody>\n",
              "</table>\n",
              "</div>"
            ],
            "text/plain": [
              "                                                  url  ...                                           body_stj\n",
              "0   https://api.github.com/repos/johnmichel/Librar...  ...  test url went everi j load page far tell jquer...\n",
              "3   https://api.github.com/repos/johnmichel/Librar...  ...  angularj begin version object remov els condit...\n",
              "11  https://api.github.com/repos/johnmichel/Librar...  ...  run extens master error workbox block thrown j...\n",
              "12  https://api.github.com/repos/johnmichel/Librar...  ...  tri chrome chang suppos work correctli thank g...\n",
              "16  https://api.github.com/repos/johnmichel/Librar...  ...  fast path test preact detect preact x site use...\n",
              "\n",
              "[5 rows x 11 columns]"
            ]
          },
          "metadata": {
            "tags": []
          },
          "execution_count": 53
        }
      ]
    },
    {
      "cell_type": "code",
      "metadata": {
        "id": "zLGFUdYz0aFW"
      },
      "source": [
        "k = df_t.title_stj.apply(lambda x: any(k in x for k in keys))\n",
        "l = df_t.body_stj.apply(lambda x: any(k in x for k in keys))"
      ],
      "execution_count": null,
      "outputs": []
    },
    {
      "cell_type": "code",
      "metadata": {
        "id": "r-5hBHMez3vX"
      },
      "source": [
        "from collections import Counter"
      ],
      "execution_count": null,
      "outputs": []
    },
    {
      "cell_type": "code",
      "metadata": {
        "colab": {
          "base_uri": "https://localhost:8080/"
        },
        "id": "PS__RvAZ2EI_",
        "outputId": "d30bbc25-58c0-4c49-db4b-51bc764e38cb"
      },
      "source": [
        "Counter(l), Counter(k)"
      ],
      "execution_count": null,
      "outputs": [
        {
          "output_type": "execute_result",
          "data": {
            "text/plain": [
              "(Counter({False: 26635, True: 2379}), Counter({False: 28159, True: 855}))"
            ]
          },
          "metadata": {
            "tags": []
          },
          "execution_count": 55
        }
      ]
    },
    {
      "cell_type": "code",
      "metadata": {
        "id": "86k9oTOaCI9G"
      },
      "source": [
        "df_t_title = df_t.loc[k]"
      ],
      "execution_count": null,
      "outputs": []
    },
    {
      "cell_type": "code",
      "metadata": {
        "id": "OuhocUOXCswz"
      },
      "source": [
        "df_t_body = df_t.loc[l]"
      ],
      "execution_count": null,
      "outputs": []
    },
    {
      "cell_type": "code",
      "metadata": {
        "id": "gTSZi-fmC8TQ"
      },
      "source": [
        "df_t_security = pd.concat([df_t_title, df_t_body])"
      ],
      "execution_count": null,
      "outputs": []
    },
    {
      "cell_type": "code",
      "metadata": {
        "colab": {
          "base_uri": "https://localhost:8080/"
        },
        "id": "hGMar24xDHsA",
        "outputId": "b2d6023f-2231-4afb-a473-acb8b84d8ada"
      },
      "source": [
        "df_t_security.shape, df_t.shape"
      ],
      "execution_count": null,
      "outputs": [
        {
          "output_type": "execute_result",
          "data": {
            "text/plain": [
              "((2705, 10), (29014, 11))"
            ]
          },
          "metadata": {
            "tags": []
          },
          "execution_count": 89
        }
      ]
    },
    {
      "cell_type": "code",
      "metadata": {
        "id": "X6ChSUW3DVTd"
      },
      "source": [
        "df_t_security.drop_duplicates(['id'], inplace=True)"
      ],
      "execution_count": null,
      "outputs": []
    },
    {
      "cell_type": "code",
      "metadata": {
        "colab": {
          "base_uri": "https://localhost:8080/",
          "height": 573
        },
        "id": "cnjXuVqwDmrx",
        "outputId": "f3e62455-80c7-4302-81f6-a25256e93135"
      },
      "source": [
        "df_t_security.head()"
      ],
      "execution_count": null,
      "outputs": [
        {
          "output_type": "execute_result",
          "data": {
            "text/html": [
              "<div>\n",
              "<style scoped>\n",
              "    .dataframe tbody tr th:only-of-type {\n",
              "        vertical-align: middle;\n",
              "    }\n",
              "\n",
              "    .dataframe tbody tr th {\n",
              "        vertical-align: top;\n",
              "    }\n",
              "\n",
              "    .dataframe thead th {\n",
              "        text-align: right;\n",
              "    }\n",
              "</style>\n",
              "<table border=\"1\" class=\"dataframe\">\n",
              "  <thead>\n",
              "    <tr style=\"text-align: right;\">\n",
              "      <th></th>\n",
              "      <th>url</th>\n",
              "      <th>id</th>\n",
              "      <th>number</th>\n",
              "      <th>title</th>\n",
              "      <th>labels</th>\n",
              "      <th>state</th>\n",
              "      <th>created_at</th>\n",
              "      <th>closed_at</th>\n",
              "      <th>body</th>\n",
              "      <th>title_stj</th>\n",
              "      <th>body_stj</th>\n",
              "    </tr>\n",
              "  </thead>\n",
              "  <tbody>\n",
              "    <tr>\n",
              "      <th>170</th>\n",
              "      <td>https://api.github.com/repos/johnmichel/Librar...</td>\n",
              "      <td>8312690</td>\n",
              "      <td>19</td>\n",
              "      <td>[x, domain, error, injected, script]</td>\n",
              "      <td></td>\n",
              "      <td>closed</td>\n",
              "      <td>2012-11-13T04:55:29Z</td>\n",
              "      <td>2014-06-06T03:45:51Z</td>\n",
              "      <td>[appeared, updating, manifest, file, need, spe...</td>\n",
              "      <td>x domain error inject script</td>\n",
              "      <td>appear updat manifest file need spend time rev...</td>\n",
              "    </tr>\n",
              "    <tr>\n",
              "      <th>1067</th>\n",
              "      <td>https://api.github.com/repos/OctoLinker/OctoLi...</td>\n",
              "      <td>349844054</td>\n",
              "      <td>494</td>\n",
              "      <td>[get, parent, sha, pr, diff, view]</td>\n",
              "      <td></td>\n",
              "      <td>closed</td>\n",
              "      <td>2018-08-12T21:06:55Z</td>\n",
              "      <td>2018-08-13T20:39:37Z</td>\n",
              "      <td>[journey, get, pull, request, working, beginni...</td>\n",
              "      <td>get parent sha pr diff view</td>\n",
              "      <td>journey get pull request work begin discov sel...</td>\n",
              "    </tr>\n",
              "    <tr>\n",
              "      <th>1265</th>\n",
              "      <td>https://api.github.com/repos/OctoLinker/OctoLi...</td>\n",
              "      <td>210397886</td>\n",
              "      <td>293</td>\n",
              "      <td>[ignre, checksum, installing, chrome, choco]</td>\n",
              "      <td></td>\n",
              "      <td>closed</td>\n",
              "      <td>2017-02-27T06:25:11Z</td>\n",
              "      <td>2017-02-27T06:28:55Z</td>\n",
              "      <td>[downloading, googlechrome, bit, progress, com...</td>\n",
              "      <td>ignr checksum instal chrome choco</td>\n",
              "      <td>download googlechrom bit progress complet down...</td>\n",
              "    </tr>\n",
              "    <tr>\n",
              "      <th>1588</th>\n",
              "      <td>https://api.github.com/repos/jordwest/news-fee...</td>\n",
              "      <td>706467182</td>\n",
              "      <td>97</td>\n",
              "      <td>[support, eradication, hacker, news, news, yco...</td>\n",
              "      <td></td>\n",
              "      <td>closed</td>\n",
              "      <td>2020-09-22T15:07:39Z</td>\n",
              "      <td>2020-10-01T08:14:02Z</td>\n",
              "      <td>[]</td>\n",
              "      <td>support erad hacker news news ycombin com</td>\n",
              "      <td></td>\n",
              "    </tr>\n",
              "    <tr>\n",
              "      <th>1594</th>\n",
              "      <td>https://api.github.com/repos/jordwest/news-fee...</td>\n",
              "      <td>672394513</td>\n",
              "      <td>91</td>\n",
              "      <td>[whitelist, blacklist, certain, page, people]</td>\n",
              "      <td></td>\n",
              "      <td>closed</td>\n",
              "      <td>2020-08-03T23:10:18Z</td>\n",
              "      <td>2020-08-05T00:33:18Z</td>\n",
              "      <td>[use, case, sometimes, certain, update, nice, ...</td>\n",
              "      <td>whitelist blacklist certain page peopl</td>\n",
              "      <td>use case sometim certain updat nice receiv loc...</td>\n",
              "    </tr>\n",
              "  </tbody>\n",
              "</table>\n",
              "</div>"
            ],
            "text/plain": [
              "                                                    url  ...                                           body_stj\n",
              "170   https://api.github.com/repos/johnmichel/Librar...  ...  appear updat manifest file need spend time rev...\n",
              "1067  https://api.github.com/repos/OctoLinker/OctoLi...  ...  journey get pull request work begin discov sel...\n",
              "1265  https://api.github.com/repos/OctoLinker/OctoLi...  ...  download googlechrom bit progress complet down...\n",
              "1588  https://api.github.com/repos/jordwest/news-fee...  ...                                                   \n",
              "1594  https://api.github.com/repos/jordwest/news-fee...  ...  use case sometim certain updat nice receiv loc...\n",
              "\n",
              "[5 rows x 11 columns]"
            ]
          },
          "metadata": {
            "tags": []
          },
          "execution_count": 71
        }
      ]
    },
    {
      "cell_type": "code",
      "metadata": {
        "id": "aDvcb8YeD1Og"
      },
      "source": [
        "df_t_security.drop(['title_stj', 'body_stj'], axis=1, inplace=True)"
      ],
      "execution_count": null,
      "outputs": []
    },
    {
      "cell_type": "code",
      "metadata": {
        "id": "kVT0P7IdEFgs"
      },
      "source": [
        "df_t_security.to_pickle('security_issues_15_05_2020.pkl')"
      ],
      "execution_count": null,
      "outputs": []
    },
    {
      "cell_type": "code",
      "metadata": {
        "colab": {
          "base_uri": "https://localhost:8080/"
        },
        "id": "MvvIReiTEdaM",
        "outputId": "160955a2-018d-4839-d1dd-27e34e527caa"
      },
      "source": [
        "df_t_security.columns"
      ],
      "execution_count": null,
      "outputs": [
        {
          "output_type": "execute_result",
          "data": {
            "text/plain": [
              "Index(['url', 'id', 'number', 'title', 'labels', 'state', 'created_at',\n",
              "       'closed_at', 'body'],\n",
              "      dtype='object')"
            ]
          },
          "metadata": {
            "tags": []
          },
          "execution_count": 75
        }
      ]
    },
    {
      "cell_type": "code",
      "metadata": {
        "id": "hohtP2uvEjC6"
      },
      "source": [
        "df_t_security['year'] = df_t_security['created_at'].apply(lambda x: str(x).split('-')[0])"
      ],
      "execution_count": null,
      "outputs": []
    },
    {
      "cell_type": "code",
      "metadata": {
        "id": "lDJWJBOKE1lx"
      },
      "source": [
        "sec_issues_by_year = {}"
      ],
      "execution_count": null,
      "outputs": []
    },
    {
      "cell_type": "code",
      "metadata": {
        "id": "aK0xo1vsFptm"
      },
      "source": [
        "issues_by_year = {}"
      ],
      "execution_count": null,
      "outputs": []
    },
    {
      "cell_type": "code",
      "metadata": {
        "id": "cRD8H3fQFAmW"
      },
      "source": [
        "for t in df_t_security.iterrows():\n",
        "  if t[1]['year'] not in sec_issues_by_year:\n",
        "    sec_issues_by_year[t[1]['year']] = 1\n",
        "  else:\n",
        "    sec_issues_by_year[t[1]['year']] += 1\n",
        "  # break"
      ],
      "execution_count": null,
      "outputs": []
    },
    {
      "cell_type": "code",
      "metadata": {
        "id": "amMCwSpGF5kQ"
      },
      "source": [
        "for t in df_t.iterrows():\n",
        "  year = str(t[1]['created_at']).split('-')[0]\n",
        "  if year not in issues_by_year:\n",
        "    issues_by_year[year] = 1\n",
        "  else:\n",
        "    issues_by_year[year] += 1\n",
        "  # break"
      ],
      "execution_count": null,
      "outputs": []
    },
    {
      "cell_type": "code",
      "metadata": {
        "colab": {
          "base_uri": "https://localhost:8080/"
        },
        "id": "3rE0bqhCFiXy",
        "outputId": "f7858afb-bfa0-4221-9818-fd25d3c426f9"
      },
      "source": [
        "sec_issues_by_year"
      ],
      "execution_count": null,
      "outputs": [
        {
          "output_type": "execute_result",
          "data": {
            "text/plain": [
              "{'2010': 0,\n",
              " '2011': 11,\n",
              " '2012': 43,\n",
              " '2013': 62,\n",
              " '2014': 65,\n",
              " '2015': 82,\n",
              " '2016': 223,\n",
              " '2017': 405,\n",
              " '2018': 416,\n",
              " '2019': 546,\n",
              " '2020': 686,\n",
              " '2021': 166}"
            ]
          },
          "metadata": {
            "tags": []
          },
          "execution_count": 97
        }
      ]
    },
    {
      "cell_type": "code",
      "metadata": {
        "colab": {
          "base_uri": "https://localhost:8080/"
        },
        "id": "cjgirHXwGO05",
        "outputId": "5c8be474-cd09-47e2-e505-3447bffb2658"
      },
      "source": [
        "issues_by_year"
      ],
      "execution_count": null,
      "outputs": [
        {
          "output_type": "execute_result",
          "data": {
            "text/plain": [
              "{'2010': 21,\n",
              " '2011': 47,\n",
              " '2012': 546,\n",
              " '2013': 593,\n",
              " '2014': 843,\n",
              " '2015': 892,\n",
              " '2016': 2562,\n",
              " '2017': 3660,\n",
              " '2018': 4418,\n",
              " '2019': 5641,\n",
              " '2020': 7799,\n",
              " '2021': 1992}"
            ]
          },
          "metadata": {
            "tags": []
          },
          "execution_count": 88
        }
      ]
    },
    {
      "cell_type": "code",
      "metadata": {
        "id": "Xv5-7OTpHkMK"
      },
      "source": [
        "res = []"
      ],
      "execution_count": null,
      "outputs": []
    },
    {
      "cell_type": "code",
      "metadata": {
        "id": "MCBOaM5xGvzB"
      },
      "source": [
        "for i in issues_by_year:\n",
        "  res.append({\n",
        "      'year': i,\n",
        "      'issues': issues_by_year[i],\n",
        "      'security_issues': sec_issues_by_year[i]\n",
        "  })"
      ],
      "execution_count": null,
      "outputs": []
    },
    {
      "cell_type": "code",
      "metadata": {
        "id": "-Q5rM99CILf_"
      },
      "source": [
        "pd.DataFrame(res).sort_values('year').to_csv('security_issues_stats.csv')"
      ],
      "execution_count": null,
      "outputs": []
    },
    {
      "cell_type": "code",
      "metadata": {
        "id": "nRG-aubJK2Hp"
      },
      "source": [
        "n = Counter(df_t['url'].apply(lambda x: str(x).split('/')[-3]))"
      ],
      "execution_count": null,
      "outputs": []
    },
    {
      "cell_type": "code",
      "metadata": {
        "id": "MQ80GN8qLcqC"
      },
      "source": [
        "count = 0\n",
        "for i in n:\n",
        "  count += 1"
      ],
      "execution_count": null,
      "outputs": []
    },
    {
      "cell_type": "code",
      "metadata": {
        "id": "-sD4aZqnLjNJ",
        "colab": {
          "base_uri": "https://localhost:8080/"
        },
        "outputId": "049dbab1-5406-4614-cc8d-443b04052a65"
      },
      "source": [
        "count"
      ],
      "execution_count": null,
      "outputs": [
        {
          "output_type": "execute_result",
          "data": {
            "text/plain": [
              "241"
            ]
          },
          "metadata": {
            "tags": []
          },
          "execution_count": 109
        }
      ]
    }
  ]
}