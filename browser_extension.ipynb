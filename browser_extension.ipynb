{
  "nbformat": 4,
  "nbformat_minor": 0,
  "metadata": {
    "colab": {
      "name": "browser-extension.ipynb",
      "provenance": [],
      "collapsed_sections": [],
      "toc_visible": true
    },
    "kernelspec": {
      "name": "python3",
      "display_name": "Python 3"
    },
    "language_info": {
      "name": "python"
    }
  },
  "cells": [
    {
      "cell_type": "code",
      "metadata": {
        "id": "xprvtMrUaheu"
      },
      "source": [
        "import requests\n",
        "import os\n",
        "import math\n",
        "import time\n",
        "from urllib.parse import unquote\n",
        "import json\n",
        "import datetime as dt\n",
        "import pandas as pd\n",
        "import numpy as np\n",
        "import copy\n",
        "from collections import Counter\n",
        "import matplotlib.pyplot as plt\n",
        "\n",
        "token = \"58c87951560742a3ae7ea9d3d42ca0c30b6980bc\"\n",
        "headers = {'Authorization': f'token {token}', 'Accept': 'application/vnd.github.mercy-preview+json'}\n",
        "base_url = f\"https://api.github.com/\"\n",
        "# r = requests.get(f\"{base_url}search/repositories\", headers=headers, params=params)\n",
        "\n",
        "\"\"\"Params of the form....params = {\n",
        "    'q': 'javascript-game',\n",
        "    'sort': 'stars',\n",
        "    'per_page': '100'\n",
        "}\"\"\"\n",
        "\n",
        "tags = [\n",
        "      'browser-extension',\n",
        "      'chrome-extension',\n",
        "      'firefox-extension',\n",
        "      'firefox-addon',\n",
        "      'web-extension'  \n",
        "]\n",
        "\n",
        "max_pages_by_keyword = {\n",
        "    'browser-extension': 12,\n",
        "    'chrome-extension': 94,\n",
        "    'firefox-extension': 11,\n",
        "    'firefox-addon': 14,\n",
        "    'web-extension': 3\n",
        "}\n"
      ],
      "execution_count": null,
      "outputs": []
    },
    {
      "cell_type": "code",
      "metadata": {
        "colab": {
          "base_uri": "https://localhost:8080/",
          "height": 36
        },
        "id": "mPk4avyEsLnw",
        "outputId": "c8c138bc-33e0-4b9f-e89c-1000d718cc8d"
      },
      "source": [
        "dt.datetime(2020, 1, 1).isoformat()"
      ],
      "execution_count": null,
      "outputs": [
        {
          "output_type": "execute_result",
          "data": {
            "application/vnd.google.colaboratory.intrinsic+json": {
              "type": "string"
            },
            "text/plain": [
              "'2020-01-01T00:00:00'"
            ]
          },
          "metadata": {
            "tags": []
          },
          "execution_count": 18
        }
      ]
    },
    {
      "cell_type": "code",
      "metadata": {
        "id": "J_LMthiFXhBe"
      },
      "source": [
        "def getReposByTag(tag):\n",
        "  \"\"\" Get total count and decide based on if number of results >1000 \"\"\"\n",
        "  numberOfResults = getTotalCount(\"topic:\" + tag)\n",
        "  print(f\"{tag}...count = {numberOfResults}\")\n",
        "\n",
        "  \"\"\" If repos between 1000 and 5000 use yearly results \"\"\"\n",
        "  if(numberOfResults > 1000 and numberOfResults < 5000):\n",
        "    repos = []\n",
        "    \"\"\" Use 1 year slots \"\"\"\n",
        "    for year in range(2008, 2022):\n",
        "      query = f\"topic:{tag}+created:{dt.datetime(year, 1, 1).isoformat()}..{dt.datetime(year, 12, 31).isoformat()}\"\n",
        "      \"\"\" Get count -> Get # of pages -> Make the request \"\"\"\n",
        "      total_count = getTotalCount(query)\n",
        "      pages = math.ceil(total_count/100)\n",
        "      repos = repos + scrapeRepos(query, pages)\n",
        "    return repos\n",
        "\n",
        "  \"\"\" If repos > 5000 use 6 month results \"\"\"\n",
        "  if(numberOfResults >= 5000):\n",
        "    repos = []\n",
        "    \"\"\" Use four quarters \"\"\"\n",
        "    for year in range(2008, 2022):\n",
        "      query_first_q = f\"topic:{tag}+created:{dt.datetime(year, 1, 1).isoformat()}..{dt.datetime(year, 3, 31).isoformat()}\"\n",
        "      query_second_q = f\"topic:{tag}+created:{dt.datetime(year, 4, 1).isoformat()}..{dt.datetime(year, 6, 30).isoformat()}\"\n",
        "      query_third_q = f\"topic:{tag}+created:{dt.datetime(year, 7, 1).isoformat()}..{dt.datetime(year, 9, 30).isoformat()}\"\n",
        "      query_fourth_q = f\"topic:{tag}+created:{dt.datetime(year, 10, 1).isoformat()}..{dt.datetime(year, 12, 31).isoformat()}\"\n",
        "\n",
        "      \"\"\" Get count -> Get # of pages -> Make the request (For all four quarters)\"\"\"\n",
        "      total_count = getTotalCount(query_first_q)\n",
        "      pages = math.ceil(total_count/100)\n",
        "      q1 = scrapeRepos(query_first_q, pages)\n",
        "\n",
        "      total_count = getTotalCount(query_second_q)\n",
        "      pages = math.ceil(total_count/100)\n",
        "      q2 = scrapeRepos(query_second_q, pages)\n",
        "\n",
        "      total_count = getTotalCount(query_third_q)\n",
        "      pages = math.ceil(total_count/100)\n",
        "      q3 = scrapeRepos(query_third_q, pages)\n",
        "\n",
        "      total_count = getTotalCount(query_fourth_q)\n",
        "      pages = math.ceil(total_count/100)\n",
        "      q4 = scrapeRepos(query_fourth_q, pages)\n",
        "\n",
        "      \"\"\" Merge results of both halves \"\"\"\n",
        "      repos = repos + q1 + q2 + q3 + q4\n",
        "    return repos\n",
        "  else: \n",
        "    \"\"\" Get count -> Get # of pages -> Make the request \"\"\"\n",
        "    total_count = getTotalCount(f\"topic:{tag}\")\n",
        "    pages = math.ceil(total_count/100)\n",
        "    return scrapeRepos(tag, pages)\n"
      ],
      "execution_count": null,
      "outputs": []
    },
    {
      "cell_type": "code",
      "metadata": {
        "id": "lKx39q4w4QK2"
      },
      "source": [
        "\"\"\" Get total count of results by query \"\"\"\n",
        "def getTotalCount(query):\n",
        "  print(query)\n",
        "  try:\n",
        "    r = requests.get(f\"{base_url}search/repositories\", headers=headers, params = f'q={query}')\n",
        "    total_count = json.loads(r.text)['total_count']\n",
        "    if(not total_count):\n",
        "      print(f\"URL = {r.url}\")\n",
        "      print(json.loads(r.text))\n",
        "    print(f\"repos found --> {total_count}\" )\n",
        "    return total_count\n",
        "  except:\n",
        "    print(\"Failed. Retry after 60 seconds\")\n",
        "    time.sleep(60)\n",
        "    return getTotalCount(query)\n",
        "  # pages = math.ceil(total_count/100)"
      ],
      "execution_count": null,
      "outputs": []
    },
    {
      "cell_type": "code",
      "metadata": {
        "id": "lfB0ouTT5G_i"
      },
      "source": [
        "\"\"\" Scrape repos and return them \"\"\"\n",
        "def scrapeRepos(query, pages):\n",
        "  # print(f\"Scraping...{query}...{pages}\")\n",
        "  repos = []\n",
        "  page = 0\n",
        "  retries = 0\n",
        "  while(page < pages):\n",
        "    try:\n",
        "      r = requests.get(f\"{base_url}search/repositories\", headers=headers, params = f\"q={query}&sort=stars&per_page=100&page={page+1}\")\n",
        "      print(f\"url {r.url}\")\n",
        "      data = json.loads(r.text)\n",
        "      repos = repos + data['items']\n",
        "      print(f\"scraped {len(repos)} repos\")\n",
        "      page = page +1\n",
        "      retries = 0\n",
        "    except:\n",
        "      if(retries > 3):\n",
        "        print(\"failed 3 consecutive tries..ABORT\")\n",
        "        page = pages\n",
        "      else: \n",
        "        print(f\"failed for page # {page}. Retrying after 60 seconds\")\n",
        "        time.sleep(60)\n",
        "      retries = retries + 1\n",
        "\n",
        "      # r = requests.get(f\"{base_url}search/repositories\", headers=headers, params = f\"q={query}&sort=stars&per_page=100&page={page+1}\")\n",
        "      # print(f\"url {r.url}\")\n",
        "      # data = json.loads(r.text)\n",
        "      # repos = repos + data['items']\n",
        "      # print(f\"scraped {len(repos)} repos\")\n",
        "\n",
        "  return repos"
      ],
      "execution_count": null,
      "outputs": []
    },
    {
      "cell_type": "markdown",
      "metadata": {
        "id": "t7pdNZmr-bwv"
      },
      "source": [
        "### Extract data and save them in appropriate variables"
      ]
    },
    {
      "cell_type": "code",
      "metadata": {
        "id": "cz291yTjFLrF"
      },
      "source": [
        "firefox_extension = getReposByTag('firefox-extension')"
      ],
      "execution_count": null,
      "outputs": []
    },
    {
      "cell_type": "code",
      "metadata": {
        "id": "fq2cX2jNLQUH"
      },
      "source": [
        "firefox_addon = getReposByTag('firefox-addon')"
      ],
      "execution_count": null,
      "outputs": []
    },
    {
      "cell_type": "code",
      "metadata": {
        "id": "tZxC7X_TNBgz"
      },
      "source": [
        "safari_extension = getReposByTag('safari-extension')"
      ],
      "execution_count": null,
      "outputs": []
    },
    {
      "cell_type": "code",
      "metadata": {
        "id": "u2LgvU1FNZdR"
      },
      "source": [
        "chrome_extension = getReposByTag('chrome-extension')"
      ],
      "execution_count": null,
      "outputs": []
    },
    {
      "cell_type": "code",
      "metadata": {
        "id": "JmGarVP9Yk0M"
      },
      "source": [
        "browser_extension = getReposByTag('browser-extension')"
      ],
      "execution_count": null,
      "outputs": []
    },
    {
      "cell_type": "code",
      "metadata": {
        "id": "4hK578ZzZfqG"
      },
      "source": [
        "web_extension = getReposByTag('web-extension')"
      ],
      "execution_count": null,
      "outputs": []
    },
    {
      "cell_type": "code",
      "metadata": {
        "id": "Jsx7z_dyaHfe"
      },
      "source": [
        "opera_extension = getReposByTag('opera-extension')"
      ],
      "execution_count": null,
      "outputs": []
    },
    {
      "cell_type": "code",
      "metadata": {
        "id": "T2QDJw34az7X"
      },
      "source": [
        "edge_extension = getReposByTag('edge-extension')"
      ],
      "execution_count": null,
      "outputs": []
    },
    {
      "cell_type": "markdown",
      "metadata": {
        "id": "7g3OR5D1-nvx"
      },
      "source": [
        "### Pickle the data for later use"
      ]
    },
    {
      "cell_type": "code",
      "metadata": {
        "id": "b0nGPlJXH3ZW"
      },
      "source": [
        "import pandas as pd\n",
        "df = pd.DataFrame(edge_extension)\n",
        "df.to_pickle('edge_extension.pkl') # do this for all variables"
      ],
      "execution_count": null,
      "outputs": []
    },
    {
      "cell_type": "markdown",
      "metadata": {
        "id": "bDI4F8x0-D0a"
      },
      "source": [
        "### Merge firefox tables to form a consolidated set"
      ]
    },
    {
      "cell_type": "code",
      "metadata": {
        "id": "aPAZscBj79ed"
      },
      "source": [
        "# Essential columns\n",
        "essential_columns = ['id', 'name', 'html_url', 'description', 'created_at', 'updated_at', 'size', 'stargazers_count', 'watchers_count', 'language', 'has_issues', 'forks_count', 'open_issues_count', 'archived', 'topics']\n",
        "# Merge Firefox tables\n",
        "import pandas as pd\n",
        "ffe = pd.read_pickle('firefox_extension.pkl')\n",
        "ffa = pd.read_pickle('firefox_addon.pkl')\n",
        "ffe_df = ffe[essential_columns]\n",
        "ffa_df = ffa[essential_columns]\n",
        "ff_df = pd.concat([ffe_df, ffa_df])\n",
        "ff_df.drop_duplicates(subset=['id'], inplace=True)"
      ],
      "execution_count": null,
      "outputs": []
    },
    {
      "cell_type": "code",
      "metadata": {
        "colab": {
          "base_uri": "https://localhost:8080/"
        },
        "id": "VuSHHcRQ50km",
        "outputId": "646a438e-313c-4ee4-b501-deef592daebb"
      },
      "source": [
        "ffa.shape, ffe.shape, ff_df.shape"
      ],
      "execution_count": null,
      "outputs": [
        {
          "output_type": "execute_result",
          "data": {
            "text/plain": [
              "((1379, 76), (1133, 76), (2043, 15))"
            ]
          },
          "metadata": {
            "tags": []
          },
          "execution_count": 26
        }
      ]
    },
    {
      "cell_type": "code",
      "metadata": {
        "id": "qhaP4Ozz9ZIU"
      },
      "source": [
        "ff_df.to_pickle('firefox.pkl') # Pickle for later use"
      ],
      "execution_count": null,
      "outputs": []
    },
    {
      "cell_type": "markdown",
      "metadata": {
        "id": "sR7F1DzzA7QV"
      },
      "source": [
        "### Get consolidated list of other extensions"
      ]
    },
    {
      "cell_type": "code",
      "metadata": {
        "id": "CR5o3IitA6JC"
      },
      "source": [
        "browser_extension = pd.read_pickle('browser_extension.pkl')\n",
        "edge_extension = pd.read_pickle('edge_extension.pkl')\n",
        "opera_extension = pd.read_pickle('opera_extension.pkl')\n",
        "web_extension = pd.read_pickle('web_extension.pkl')\n",
        "chrome_extension = pd.read_pickle('chrome_extension.pkl')\n",
        "firefox_extension = pd.read_pickle('firefox.pkl')\n",
        "safari_extension = pd.read_pickle('safari_extension.pkl')"
      ],
      "execution_count": null,
      "outputs": []
    },
    {
      "cell_type": "code",
      "metadata": {
        "id": "uM6O1lun80ZT"
      },
      "source": [
        "be_df = browser_extension[essential_columns]\n",
        "ee_df = edge_extension[essential_columns]\n",
        "oe_df = opera_extension[essential_columns]\n",
        "we_df = web_extension[essential_columns]\n",
        "ce_df = chrome_extension[essential_columns]\n",
        "ff_df = firefox_extension[essential_columns]\n",
        "se_df = safari_extension[essential_columns]"
      ],
      "execution_count": null,
      "outputs": []
    },
    {
      "cell_type": "markdown",
      "metadata": {
        "id": "nocSh2UEToxu"
      },
      "source": [
        "### A few exploratory analysis"
      ]
    },
    {
      "cell_type": "code",
      "metadata": {
        "id": "xvw1BgFSTkjL"
      },
      "source": [
        "be_all_topics = be_df['topics'].tolist()\n",
        "# for key in be_df['topics']:\n",
        "#   be_df['topics'][key]"
      ],
      "execution_count": null,
      "outputs": []
    },
    {
      "cell_type": "code",
      "metadata": {
        "id": "HbLcxbDuDvVj"
      },
      "source": [
        "be_all_topics_flat = [topic for t in be_all_topics for topic in t]"
      ],
      "execution_count": null,
      "outputs": []
    },
    {
      "cell_type": "code",
      "metadata": {
        "id": "MfXKtX1GEjEc"
      },
      "source": [
        "from collections import Counter\n",
        "import matplotlib.pyplot as plt"
      ],
      "execution_count": null,
      "outputs": []
    },
    {
      "cell_type": "code",
      "metadata": {
        "id": "KcQVQxsCExQw"
      },
      "source": [
        "all_topics_kv = Counter(be_all_topics_flat)"
      ],
      "execution_count": null,
      "outputs": []
    },
    {
      "cell_type": "code",
      "metadata": {
        "id": "ooIEG05XGKTr"
      },
      "source": [
        "all_topics_relevant = {k:v for k, v in all_topics_kv.items() if useful(k)}"
      ],
      "execution_count": null,
      "outputs": []
    },
    {
      "cell_type": "code",
      "metadata": {
        "id": "QFXXQd5EGree"
      },
      "source": [
        "def useful(s):\n",
        "  return any(substring in s for substring in ['chrome', 'safari', 'firefox', 'edge', 'opera'])"
      ],
      "execution_count": null,
      "outputs": []
    },
    {
      "cell_type": "code",
      "metadata": {
        "colab": {
          "base_uri": "https://localhost:8080/"
        },
        "id": "gBAJJijMHrnB",
        "outputId": "34320c55-0854-4898-8766-e47ab6f6aeec"
      },
      "source": [
        "all_topics_relevant.keys()"
      ],
      "execution_count": null,
      "outputs": [
        {
          "output_type": "execute_result",
          "data": {
            "text/plain": [
              "dict_keys(['chrome', 'chrome-extension', 'firefox-addon', 'firefox-extension', 'opera-extension', 'opera12', 'google-chrome', 'firefox', 'safari-extension', 'mozilla-firefox', 'mozilla-firefox-addon', 'edge', 'opera', 'safari', 'chrome-app', 'chrome-browser', 'chrome-extensions', 'chrome-plugin', 'firefox-browser', 'edge-extension', 'microsoft-edge', 'firefox-webextension', 'chrome-browser-extension', 'extension-chrome', 'firefox-extensions', 'chrome-addon', 'edge-addon', 'msedge-extension', 'firefox-shortcut-keys', 'firefox-quantum', 'chrome-extension-seed', 'chrome-extension-starter', 'google-chrome-extension', 'chrome-extension-react', 'opera-addon', 'chrome-web-store', 'chrome-webstore', 'safari-app-extension', 'personal-knowledge-base', 'add-ons-for-firefox', 'chrome-devtools', 'chromeextension', 'chrome-api', 'chrome-extension-starter-template', 'preact-chrome-extension', 'react-chrome-extension', 'ms-edge', 'firefox-android', 'chrome-smartbox', 'chrome-development', 'mozilla-firefox-extension', 'googlechrome', 'microsoft-edge-extension', 'chrome-headless', 'headless-chrome', 'firefox-add-ons', 'edge-store', 'ms-edge-chromium', 'chromium-edge', 'knowledge-base', 'chrome-mediasession-api', 'edge-extensions', 'safari-13', 'safari-browser-extension', 'sfsafaripage', 'sfsafaritab', 'sfsafariwindow', 'chrome-webextension', 'edgehtml', 'starter-kit-for-chrome-extension', 'firefox-addons', 'opera-browser', 'opera-gx', 'opera-extention', 'chrome-unsplash'])"
            ]
          },
          "metadata": {
            "tags": []
          },
          "execution_count": 43
        }
      ]
    },
    {
      "cell_type": "markdown",
      "metadata": {
        "id": "xm6rjMz-IsyU"
      },
      "source": [
        "### Merge all browsers"
      ]
    },
    {
      "cell_type": "code",
      "metadata": {
        "id": "YxRA5-EMIWH9"
      },
      "source": [
        "df = pd.concat([be_df, we_df, ff_df, ce_df, oe_df, se_df])"
      ],
      "execution_count": null,
      "outputs": []
    },
    {
      "cell_type": "code",
      "metadata": {
        "colab": {
          "base_uri": "https://localhost:8080/"
        },
        "id": "MuNYi6YKJczZ",
        "outputId": "6a7d1516-dfa5-4598-87b5-e4848993cf0d"
      },
      "source": [
        "df.shape"
      ],
      "execution_count": null,
      "outputs": [
        {
          "output_type": "execute_result",
          "data": {
            "text/plain": [
              "(13189, 15)"
            ]
          },
          "metadata": {
            "tags": []
          },
          "execution_count": 50
        }
      ]
    },
    {
      "cell_type": "code",
      "metadata": {
        "id": "mA45a_akJf-F"
      },
      "source": [
        "df_nodupes = df.drop_duplicates(subset=['id'])"
      ],
      "execution_count": null,
      "outputs": []
    },
    {
      "cell_type": "code",
      "metadata": {
        "colab": {
          "base_uri": "https://localhost:8080/",
          "height": 172
        },
        "id": "ewiw9vNcJqtJ",
        "outputId": "c6a740d5-7c06-4578-b470-f8f73c756f1a"
      },
      "source": [
        "df_nodupes.head()"
      ],
      "execution_count": null,
      "outputs": [
        {
          "output_type": "error",
          "ename": "NameError",
          "evalue": "ignored",
          "traceback": [
            "\u001b[0;31m---------------------------------------------------------------------------\u001b[0m",
            "\u001b[0;31mNameError\u001b[0m                                 Traceback (most recent call last)",
            "\u001b[0;32m<ipython-input-1-3350be94569d>\u001b[0m in \u001b[0;36m<module>\u001b[0;34m()\u001b[0m\n\u001b[0;32m----> 1\u001b[0;31m \u001b[0mdf_nodupes\u001b[0m\u001b[0;34m.\u001b[0m\u001b[0mhead\u001b[0m\u001b[0;34m(\u001b[0m\u001b[0;34m)\u001b[0m\u001b[0;34m\u001b[0m\u001b[0;34m\u001b[0m\u001b[0m\n\u001b[0m",
            "\u001b[0;31mNameError\u001b[0m: name 'df_nodupes' is not defined"
          ]
        }
      ]
    },
    {
      "cell_type": "code",
      "metadata": {
        "id": "zE6BIZNuJ4nm"
      },
      "source": [
        "df_nodupes.to_pickle('all_dataset.pkl')"
      ],
      "execution_count": null,
      "outputs": []
    },
    {
      "cell_type": "markdown",
      "metadata": {
        "id": "1x7IkcsR8FLi"
      },
      "source": [
        "### Number of browsers per extension by year"
      ]
    },
    {
      "cell_type": "code",
      "metadata": {
        "id": "ysxpj0Oeiqtc"
      },
      "source": [
        "df =pd.read_csv('browser_extension.csv')\n",
        "df_sorted_by_date = df.sort_values('created_at')\n",
        "df_sorted_by_date.drop(columns=['Unnamed: 0'], inplace=True)"
      ],
      "execution_count": null,
      "outputs": []
    },
    {
      "cell_type": "code",
      "metadata": {
        "colab": {
          "base_uri": "https://localhost:8080/"
        },
        "id": "Yneg7MCnWHPf",
        "outputId": "d8b5dc8b-132f-428a-dc9b-f3974c0e3ec4"
      },
      "source": [
        "df_sorted_by_date.shape"
      ],
      "execution_count": null,
      "outputs": [
        {
          "output_type": "execute_result",
          "data": {
            "text/plain": [
              "(11267, 16)"
            ]
          },
          "metadata": {
            "tags": []
          },
          "execution_count": 8
        }
      ]
    },
    {
      "cell_type": "code",
      "metadata": {
        "colab": {
          "base_uri": "https://localhost:8080/"
        },
        "id": "zxQtJjbR-27G",
        "outputId": "a74ade25-25b6-4cca-a599-801f21c80482"
      },
      "source": [
        "\"\"\" DROP ALL ROWS WITH NO TOPICS. SAVE THAT SET. GET THE COUNT OF ROWS\"\"\"\n",
        "df_sorted_by_date = df_sorted_by_date.loc[df_sorted_by_date['topics'] != '[]']\n",
        "df_sorted_by_date.shape"
      ],
      "execution_count": null,
      "outputs": [
        {
          "output_type": "execute_result",
          "data": {
            "text/plain": [
              "(10879, 16)"
            ]
          },
          "metadata": {
            "tags": []
          },
          "execution_count": 99
        }
      ]
    },
    {
      "cell_type": "code",
      "metadata": {
        "id": "0ADtp1CGBlDI"
      },
      "source": [
        "# Attach a date column to the dataframe\n",
        "df_sorted_by_date['year'] = df_sorted_by_date['created_at'].str.split('-').str[0]"
      ],
      "execution_count": null,
      "outputs": []
    },
    {
      "cell_type": "code",
      "metadata": {
        "id": "CvTcHhoTIEsD"
      },
      "source": [
        "Counter(df_sorted_by_date['year'])"
      ],
      "execution_count": null,
      "outputs": []
    },
    {
      "cell_type": "code",
      "metadata": {
        "id": "VB7CbjmpUs_d"
      },
      "source": [
        "df_sorted_by_date.loc[df_sorted_by_date.year.apply(lambda x: x == '2021')]"
      ],
      "execution_count": null,
      "outputs": []
    },
    {
      "cell_type": "code",
      "metadata": {
        "id": "xcz-9VgPOQ3o"
      },
      "source": [
        "def updateCount(topicString, countDict):\n",
        "  if 'chrome' in topicString.lower():\n",
        "    countDict['chrome'] = countDict['chrome']+ 1\n",
        "  if 'firefox' in topicString.lower():\n",
        "    countDict['firefox'] = countDict['firefox']+ 1\n",
        "  if 'opera' in topicString.lower():\n",
        "    countDict['opera'] = countDict['opera']+ 1\n",
        "  if 'safari' in topicString.lower():\n",
        "    countDict['safari'] = countDict['safari']+ 1\n",
        "  if 'edge' in topicString.lower():\n",
        "    countDict['edge'] = countDict['edge']+ 1\n"
      ],
      "execution_count": null,
      "outputs": []
    },
    {
      "cell_type": "code",
      "metadata": {
        "id": "u-toZRKgZPvb"
      },
      "source": [
        "def getValuesByYear(data, browser):\n",
        "  values = []\n",
        "  for key in data:\n",
        "    values .append(data[key][browser])\n",
        "  return values"
      ],
      "execution_count": null,
      "outputs": []
    },
    {
      "cell_type": "code",
      "metadata": {
        "id": "KIWGGhkCEJA5"
      },
      "source": [
        "# List of strings to consider:\n",
        "# Firefox -> firefox-addon, firefox-extension, [firefox]\n",
        "# Chrome -> chrome-extension, chrome-addon, [chrome]\n",
        "# Edge -> edge-addon, edge-extension\n",
        "# Safari -> safari\n",
        "# Opera -> opera\n",
        "# Better split the dataframes by year\n",
        "\n",
        "boiler = {\n",
        "    'firefox': 0,\n",
        "    'chrome': 0,\n",
        "    'edge': 0,\n",
        "    'opera': 0,\n",
        "    'safari': 0\n",
        "}\n",
        "\n",
        "data = {}\n",
        "for key, t in df_sorted_by_date.iterrows():\n",
        "  if t['year'] not in data:\n",
        "    data[t['year']] = copy.deepcopy(boiler)\n",
        "  updateCount(t['topics'], data[t['year']])"
      ],
      "execution_count": null,
      "outputs": []
    },
    {
      "cell_type": "code",
      "metadata": {
        "id": "Tcs5Vky_b2Tf"
      },
      "source": [
        "chrome_values = getValuesByYear(data, 'chrome')  \n",
        "firefox_values = getValuesByYear(data, 'firefox')\n",
        "safari_values = getValuesByYear(data, 'safari')\n",
        "opera_values = getValuesByYear(data, 'opera')\n",
        "edge_values = getValuesByYear(data, 'edge')\n",
        "years = [int(y) for y in data.keys()]"
      ],
      "execution_count": null,
      "outputs": []
    },
    {
      "cell_type": "code",
      "metadata": {
        "id": "E4uiTkLEBalH"
      },
      "source": [
        "other_browsers = [sum(x) for x in zip(safari_values, opera_values, edge_values)]"
      ],
      "execution_count": null,
      "outputs": []
    },
    {
      "cell_type": "code",
      "metadata": {
        "id": "7Fpw5Xeab386"
      },
      "source": [
        "# Plot all browsers on a single graph\n",
        "import matplotlib.pyplot as plt \n",
        "import numpy as np "
      ],
      "execution_count": null,
      "outputs": []
    },
    {
      "cell_type": "code",
      "metadata": {
        "id": "UnUQnMHo-yjG"
      },
      "source": [
        "x = np.arange(len(years))"
      ],
      "execution_count": null,
      "outputs": []
    },
    {
      "cell_type": "code",
      "metadata": {
        "id": "gBFFqLIk510H"
      },
      "source": [
        "width = 0.3"
      ],
      "execution_count": null,
      "outputs": []
    },
    {
      "cell_type": "code",
      "metadata": {
        "colab": {
          "base_uri": "https://localhost:8080/",
          "height": 281
        },
        "id": "w8Hs8BkqqMxE",
        "outputId": "85aba1af-4846-4980-93b6-c89a68b1a7ab"
      },
      "source": [
        "plt.bar(x, chrome_values, width, label = \"chrome\")\n",
        "plt.bar(x + width, firefox_values, width, label = \"firefox\")\n",
        "plt.bar(x + 2*width, other_browsers, width, label = \"others\")\n",
        "# plt.bar(x + 2*width, opera_values, width, label = \"opera\")\n",
        "# plt.bar(x + 3*width, safari_values, width, label = \"safari\")\n",
        "# plt.bar(x + 4*width, edge_values, width, label = \"edge\")\n",
        "plt.xticks(x, years, rotation ='vertical')\n",
        "plt.legend()\n",
        "plt.show()"
      ],
      "execution_count": null,
      "outputs": [
        {
          "output_type": "display_data",
          "data": {
            "image/png": "[encoded data removed]",
            "text/plain": [
              "<Figure size 432x288 with 1 Axes>"
            ]
          },
          "metadata": {
            "tags": [],
            "needs_background": "light"
          }
        }
      ]
    },
    {
      "cell_type": "code",
      "metadata": {
        "colab": {
          "base_uri": "https://localhost:8080/",
          "height": 281
        },
        "id": "ujFZK6flDEo-",
        "outputId": "a39a2a0d-73ae-4be2-af53-b1876d5e0318"
      },
      "source": [
        "plt.plot(years, chrome_values, label = \"chrome\")\n",
        "plt.plot(years, firefox_values, label = \"firefox\")\n",
        "# plt.plt(years, 2*other_browsers, label = \"others\")\n",
        "plt.plot(years, opera_values, label = \"opera\")\n",
        "plt.plot(years, safari_values, label = \"safari\")\n",
        "plt.plot(years, edge_values, label = \"edge\")\n",
        "plt.xticks(years, rotation ='vertical')\n",
        "plt.legend()\n",
        "plt.show()"
      ],
      "execution_count": null,
      "outputs": [
        {
          "output_type": "display_data",
          "data": {
            "image/png": "[encoded data removed]",
            "text/plain": [
              "<Figure size 432x288 with 1 Axes>"
            ]
          },
          "metadata": {
            "tags": [],
            "needs_background": "light"
          }
        }
      ]
    },
    {
      "cell_type": "code",
      "metadata": {
        "id": "T1-OcIVKEM-p"
      },
      "source": [
        "yearwise_data = []"
      ],
      "execution_count": null,
      "outputs": []
    },
    {
      "cell_type": "code",
      "metadata": {
        "id": "rK9q6FKmD2fQ"
      },
      "source": [
        "for y, c, f, s, o, e in zip(years, chrome_values, firefox_values, safari_values, opera_values, edge_values):\n",
        "  yearwise_data.append({\n",
        "      'Year': y,\n",
        "      'Chrome': c,\n",
        "      'Firefox': f,\n",
        "      'Safari': s,\n",
        "      'Opera': o,\n",
        "      'Edge': e\n",
        "  })"
      ],
      "execution_count": null,
      "outputs": []
    },
    {
      "cell_type": "code",
      "metadata": {
        "id": "BuZrAqPrEjID"
      },
      "source": [
        "pd.DataFrame(yearwise_data).to_csv('yearwise.csv')"
      ],
      "execution_count": null,
      "outputs": []
    },
    {
      "cell_type": "markdown",
      "metadata": {
        "id": "MwuWWQKxsP6P"
      },
      "source": [
        "Try percentage of Repos next"
      ]
    },
    {
      "cell_type": "code",
      "metadata": {
        "id": "FuuzFntl9r1V"
      },
      "source": [
        "chrome_percent = [t[0]*100/(t[0]+t[1]+t[2]+t[3]+t[4]) for t in zip(chrome_values,\n",
        "                                                               firefox_values, \n",
        "                                                               safari_values, \n",
        "                                                               edge_values, \n",
        "                                                               opera_values)]"
      ],
      "execution_count": null,
      "outputs": []
    },
    {
      "cell_type": "code",
      "metadata": {
        "id": "JAS8_6ed-niL"
      },
      "source": [
        "firefox_percent = [t[1]*100/(t[0]+t[1]+t[2]+t[3]+t[4]) for t in zip(chrome_values,\n",
        "                                                               firefox_values, \n",
        "                                                               safari_values, \n",
        "                                                               edge_values, \n",
        "                                                               opera_values)]"
      ],
      "execution_count": null,
      "outputs": []
    },
    {
      "cell_type": "code",
      "metadata": {
        "id": "PFQycafaH4LG"
      },
      "source": [
        "others_percent = [(t[2] + t[3] + t[4])*100/(t[0]+t[1]+t[2]+t[3]+t[4]) for t in zip(chrome_values,\n",
        "                                                               firefox_values, \n",
        "                                                               safari_values, \n",
        "                                                               edge_values, \n",
        "                                                               opera_values)]"
      ],
      "execution_count": null,
      "outputs": []
    },
    {
      "cell_type": "code",
      "metadata": {
        "colab": {
          "base_uri": "https://localhost:8080/",
          "height": 269
        },
        "id": "w1pKUWERJYi4",
        "outputId": "cf84a1a7-3d40-4763-c635-b9f2375a0ebb"
      },
      "source": [
        ""
      ],
      "execution_count": null,
      "outputs": [
        {
          "output_type": "display_data",
          "data": {
            "image/png": "[encoded data removed]",
            "text/plain": [
              "<Figure size 432x288 with 1 Axes>"
            ]
          },
          "metadata": {
            "tags": [],
            "needs_background": "light"
          }
        }
      ]
    },
    {
      "cell_type": "code",
      "metadata": {
        "colab": {
          "base_uri": "https://localhost:8080/",
          "height": 281
        },
        "id": "RMdshAlF-wLu",
        "outputId": "a8969658-48c8-48ad-9679-b3779cde34d1"
      },
      "source": [
        "# fig = plt.figure()\n",
        "# ax = fig.add_subplot(111)\n",
        "plt.plot(years, chrome_percent, label=\"Chrome\")\n",
        "plt.plot(years, firefox_percent, label=\"Firefox\")\n",
        "plt.plot(years, others_percent, label=\"Others\")\n",
        "plt.legend()\n",
        "plt.title(\"Percentage of extensions developed for Chrome and Firefox\")\n",
        "for i, v in enumerate(chrome_percent):\n",
        "    ax.text(i, v+25, \"%d\" %v, ha=\"center\")\n",
        "plt.show()"
      ],
      "execution_count": null,
      "outputs": [
        {
          "output_type": "display_data",
          "data": {
            "image/png": "[encoded data removed]",
            "text/plain": [
              "<Figure size 432x288 with 1 Axes>"
            ]
          },
          "metadata": {
            "tags": [],
            "needs_background": "light"
          }
        }
      ]
    },
    {
      "cell_type": "code",
      "metadata": {
        "id": "K4aAQ20DKmw-"
      },
      "source": [
        "yearwise_percent = []"
      ],
      "execution_count": null,
      "outputs": []
    },
    {
      "cell_type": "code",
      "metadata": {
        "id": "cVT9MEKsKaiQ"
      },
      "source": [
        "for y, c, f, o in zip(years, chrome_percent, firefox_percent, others_percent):\n",
        "  yearwise_percent.append({\n",
        "      'Year': y,\n",
        "      'Chrome': c,\n",
        "      'Firefox': f,\n",
        "      'Others': o\n",
        "  })"
      ],
      "execution_count": null,
      "outputs": []
    },
    {
      "cell_type": "code",
      "metadata": {
        "id": "X9BqTw2gK2QF"
      },
      "source": [
        "pd.DataFrame(yearwise_percent).to_csv('yearwise_percent.csv')"
      ],
      "execution_count": null,
      "outputs": []
    },
    {
      "cell_type": "markdown",
      "metadata": {
        "id": "BNP1TG1HsJPQ"
      },
      "source": [
        "### One, Two or more browsers"
      ]
    },
    {
      "cell_type": "code",
      "metadata": {
        "id": "KWMernHtslzY"
      },
      "source": [
        "data_number_of_browsers = {}\n",
        "boiler_number_of_browsers = {\n",
        "   'one': 0,\n",
        "   'two': 0,\n",
        "   'moreThanTwo': 0\n",
        "}"
      ],
      "execution_count": null,
      "outputs": []
    },
    {
      "cell_type": "code",
      "metadata": {
        "id": "gbDqv4fU7w13"
      },
      "source": [
        "def updateNumberOfBrowsersCount(data, topics, year):\n",
        "  count = 0\n",
        "  topics = topics.lower()\n",
        "  if 'chrome' in topics:\n",
        "    count = count + 1\n",
        "  if 'firefox' in topics:\n",
        "    count = count + 1\n",
        "  if 'safari' in topics:\n",
        "    count = count + 1\n",
        "  if 'opera' in topics:\n",
        "    count = count + 1\n",
        "  if 'edge' in topics:\n",
        "    count = count + 1\n",
        "  if count == 1:\n",
        "    data[year]['one'] = data[year]['one'] + 1\n",
        "  if count == 2:\n",
        "    data[year]['two'] = data[year]['two'] + 1\n",
        "  if count == 3:\n",
        "    data[year]['moreThanTwo'] = data[year]['moreThanTwo'] + 1"
      ],
      "execution_count": null,
      "outputs": []
    },
    {
      "cell_type": "code",
      "metadata": {
        "id": "VLJ_G93I60f8"
      },
      "source": [
        " for key, t in df_sorted_by_date.iterrows():\n",
        "  if t['year'] not in data_number_of_browsers:\n",
        "    data_number_of_browsers[t['year']] = copy.deepcopy(boiler_number_of_browsers)\n",
        "  updateNumberOfBrowsersCount(data_number_of_browsers, t['topics'], t['year'])"
      ],
      "execution_count": null,
      "outputs": []
    },
    {
      "cell_type": "code",
      "metadata": {
        "id": "N6b48ezn-Sgp"
      },
      "source": [
        "one_browser = getValuesByYear(data_number_of_browsers, 'one')\n",
        "two_browser = getValuesByYear(data_number_of_browsers, 'two')\n",
        "more_browser = getValuesByYear(data_number_of_browsers, 'moreThanTwo')"
      ],
      "execution_count": null,
      "outputs": []
    },
    {
      "cell_type": "markdown",
      "metadata": {
        "id": "kN4mq2zBKRWW"
      },
      "source": [
        "Data in csv format"
      ]
    },
    {
      "cell_type": "code",
      "metadata": {
        "id": "cBoEwE7WKUv5"
      },
      "source": [
        "data = []\n",
        "for o, t, m, y in zip(one_browser, two_browser, more_browser, years):\n",
        "  data.append({\n",
        "      'year': y,\n",
        "      'one_browser': o,\n",
        "      'two_browsers': t,\n",
        "      'more_browsers': m,\n",
        "  })\n",
        "pd.DataFrame(data).to_csv('number_of_browsers.csv')"
      ],
      "execution_count": null,
      "outputs": []
    },
    {
      "cell_type": "code",
      "metadata": {
        "id": "3Xu3UL1OMKzr"
      },
      "source": [
        ""
      ],
      "execution_count": null,
      "outputs": []
    },
    {
      "cell_type": "code",
      "metadata": {
        "colab": {
          "base_uri": "https://localhost:8080/",
          "height": 265
        },
        "id": "fs50eWFLAA8K",
        "outputId": "cbc68a3c-7748-4ca2-aa5d-e95e96edf501"
      },
      "source": [
        "# Plot values\n",
        "plt.plot(years, one_browser, label = \"1\")\n",
        "plt.plot(years, two_browser, label = \"2\")\n",
        "plt.plot(years, more_browser, label = \">2\")\n",
        "# plt.plot(years, safari_values, label = \"safari\")\n",
        "# plt.plot(years, edge_values, label = \"edge\")\n",
        "plt.legend()\n",
        "plt.show()"
      ],
      "execution_count": null,
      "outputs": [
        {
          "output_type": "display_data",
          "data": {
            "image/png": "[encoded data removed]",
            "text/plain": [
              "<Figure size 432x288 with 1 Axes>"
            ]
          },
          "metadata": {
            "tags": [],
            "needs_background": "light"
          }
        }
      ]
    },
    {
      "cell_type": "markdown",
      "metadata": {
        "id": "N6OM-20xAxsU"
      },
      "source": [
        "Plot a percentage graph for number of browsers"
      ]
    },
    {
      "cell_type": "code",
      "metadata": {
        "id": "_D8sCEDT7D-Q"
      },
      "source": [
        "percentage_one = [t[0]/(t[0]+t[1]+t[2])*100 for t in zip(one_browser, two_browser, more_browser)]\n",
        "percentage_two = [t[1]/(t[0]+t[1]+t[2])*100 for t in zip(one_browser, two_browser, more_browser)]\n",
        "percentage_morethantwo = [t[2]/(t[0]+t[1]+t[2])*100 for t in zip(one_browser, two_browser, more_browser)]"
      ],
      "execution_count": null,
      "outputs": []
    },
    {
      "cell_type": "code",
      "metadata": {
        "colab": {
          "base_uri": "https://localhost:8080/",
          "height": 281
        },
        "id": "tK8bX0C57yIZ",
        "outputId": "39a22fbf-0e3a-4b7c-d273-1e3d8e8fff3a"
      },
      "source": [
        "plt.plot(years, percentage_one, label=\"1\")\n",
        "plt.plot(years, percentage_two, label=\"2\")\n",
        "plt.plot(years, percentage_morethantwo, label=\">2\")\n",
        "plt.legend()\n",
        "plt.title('Percentage of single and multi browser extensions')\n",
        "plt.show()"
      ],
      "execution_count": null,
      "outputs": [
        {
          "output_type": "display_data",
          "data": {
            "image/png": "[encoded data removed]",
            "text/plain": [
              "<Figure size 432x288 with 1 Axes>"
            ]
          },
          "metadata": {
            "tags": [],
            "needs_background": "light"
          }
        }
      ]
    },
    {
      "cell_type": "markdown",
      "metadata": {
        "id": "5m--HZ8yBDLf"
      },
      "source": [
        "### Use of Typescript"
      ]
    },
    {
      "cell_type": "markdown",
      "metadata": {
        "id": "XyPeVpWjQi8X"
      },
      "source": [
        "Exploratory Analysis"
      ]
    },
    {
      "cell_type": "code",
      "metadata": {
        "colab": {
          "base_uri": "https://localhost:8080/",
          "height": 36
        },
        "id": "-vOtFbT_7KD4",
        "outputId": "59083c1b-00b2-43d1-ba31-b9d1c88b4c74"
      },
      "source": [
        "\"\"\" Trying to get rid of repos with no topics \"\"\"\n",
        "\n",
        "# df_notopics = df_sorted_by_date.loc[df_sorted_by_date['topics'] == '[]']\n",
        "# Counter(df_notopics['stargazers_count'])\n",
        "# df_notopics.loc[df_notopics['stargazers_count'] == 3141]\n",
        "# df_notopics.keys()"
      ],
      "execution_count": null,
      "outputs": [
        {
          "output_type": "execute_result",
          "data": {
            "application/vnd.google.colaboratory.intrinsic+json": {
              "type": "string"
            },
            "text/plain": [
              "' Trying to get rid of repos with no topics '"
            ]
          },
          "metadata": {
            "tags": []
          },
          "execution_count": 34
        }
      ]
    },
    {
      "cell_type": "code",
      "metadata": {
        "colab": {
          "base_uri": "https://localhost:8080/"
        },
        "id": "Z5jmzUF2Pkl4",
        "outputId": "78f4c113-9b09-4dff-d3a9-73d641034a6b"
      },
      "source": [
        "Counter(df_sorted_by_date['language'])"
      ],
      "execution_count": null,
      "outputs": [
        {
          "output_type": "execute_result",
          "data": {
            "text/plain": [
              "Counter({'AutoHotkey': 1,\n",
              "         'AutoIt': 1,\n",
              "         'Batchfile': 1,\n",
              "         'C': 13,\n",
              "         'C#': 25,\n",
              "         'C++': 16,\n",
              "         'CSS': 560,\n",
              "         'Clojure': 10,\n",
              "         'CoffeeScript': 21,\n",
              "         'Dart': 3,\n",
              "         'Elm': 5,\n",
              "         'F#': 1,\n",
              "         'Go': 31,\n",
              "         'HTML': 557,\n",
              "         'Haxe': 3,\n",
              "         'JSON': 1,\n",
              "         'Java': 24,\n",
              "         'JavaScript': 8135,\n",
              "         'Jupyter Notebook': 23,\n",
              "         'Kotlin': 11,\n",
              "         'Less': 2,\n",
              "         'LiveScript': 3,\n",
              "         'Makefile': 8,\n",
              "         'Mathematica': 1,\n",
              "         'NSIS': 1,\n",
              "         'Nunjucks': 1,\n",
              "         'OCaml': 7,\n",
              "         'Objective-C': 4,\n",
              "         'OpenSCAD': 1,\n",
              "         'PHP': 22,\n",
              "         'Perl': 1,\n",
              "         'PostScript': 1,\n",
              "         'PureScript': 1,\n",
              "         'Python': 112,\n",
              "         'Reason': 2,\n",
              "         'Ruby': 11,\n",
              "         'Rust': 5,\n",
              "         'SCSS': 13,\n",
              "         'Sass': 2,\n",
              "         'Scala': 4,\n",
              "         'Shell': 24,\n",
              "         'Svelte': 10,\n",
              "         'Swift': 30,\n",
              "         'TeX': 2,\n",
              "         'Twig': 1,\n",
              "         'TypeScript': 730,\n",
              "         'Vue': 129,\n",
              "         nan: 309})"
            ]
          },
          "metadata": {
            "tags": []
          },
          "execution_count": 37
        }
      ]
    },
    {
      "cell_type": "code",
      "metadata": {
        "id": "S0fS8PbtQncF"
      },
      "source": [
        "# Get HTML repos and see the secondary language\n",
        "# Use topic search typescript"
      ],
      "execution_count": null,
      "outputs": []
    },
    {
      "cell_type": "code",
      "metadata": {
        "id": "-Sma1Tm4Qs4p"
      },
      "source": [
        "# df_sorted_by_date.loc[df_sorted_by_date['language'] == 'HTML']\n",
        "str(Counter(df_sorted_by_date['topics']))"
      ],
      "execution_count": null,
      "outputs": []
    },
    {
      "cell_type": "code",
      "metadata": {
        "id": "ZKBEoezNT0_t"
      },
      "source": [
        "\"\"\" Filter by (topic + language) == Typescript \n",
        "    Because Typescript might be hidden in HTML/CSS language repos \"\"\"\n",
        "contains_ts_topic = df_sorted_by_date['topics'].str.contains(\"typescript\")\n",
        "df_ts_topic = df_sorted_by_date.loc[contains_ts_topic]"
      ],
      "execution_count": null,
      "outputs": []
    },
    {
      "cell_type": "code",
      "metadata": {
        "colab": {
          "base_uri": "https://localhost:8080/"
        },
        "id": "aWPFO5R4YPaJ",
        "outputId": "774a1175-92f2-4755-d1c5-6c975fe3206e"
      },
      "source": [
        "Counter(df_ts_topic['language'])"
      ],
      "execution_count": null,
      "outputs": [
        {
          "output_type": "execute_result",
          "data": {
            "text/plain": [
              "Counter({'CSS': 2,\n",
              "         'HTML': 5,\n",
              "         'Java': 1,\n",
              "         'JavaScript': 37,\n",
              "         'Python': 1,\n",
              "         'Rust': 2,\n",
              "         'Sass': 1,\n",
              "         'TypeScript': 231,\n",
              "         'Vue': 6,\n",
              "         nan: 6})"
            ]
          },
          "metadata": {
            "tags": []
          },
          "execution_count": 60
        }
      ]
    },
    {
      "cell_type": "code",
      "metadata": {
        "id": "_SXTvXwZZKT3"
      },
      "source": [
        "df_ts_lang = df_sorted_by_date.loc[df_sorted_by_date['language'] == 'TypeScript']"
      ],
      "execution_count": null,
      "outputs": []
    },
    {
      "cell_type": "code",
      "metadata": {
        "colab": {
          "base_uri": "https://localhost:8080/"
        },
        "id": "SF0Kyc0XZXuT",
        "outputId": "1e8f25e5-004c-4fb0-ada4-0475fefee84e"
      },
      "source": [
        "# Merge ts-topic and ts-lang\n",
        "\n",
        "df_ts = pd.concat([df_ts_lang, df_ts_topic])\n",
        "df_ts.shape"
      ],
      "execution_count": null,
      "outputs": [
        {
          "output_type": "execute_result",
          "data": {
            "text/plain": [
              "(1022, 16)"
            ]
          },
          "metadata": {
            "tags": []
          },
          "execution_count": 67
        }
      ]
    },
    {
      "cell_type": "code",
      "metadata": {
        "colab": {
          "base_uri": "https://localhost:8080/"
        },
        "id": "Uw14jJ6gZ1aW",
        "outputId": "a5de49dd-05b6-4607-b235-8d0f536362eb"
      },
      "source": [
        "# Remove duplicate entries\n",
        "df_ts.drop_duplicates(['id'], inplace=True)\n",
        "df_ts.shape"
      ],
      "execution_count": null,
      "outputs": [
        {
          "output_type": "execute_result",
          "data": {
            "text/plain": [
              "(791, 16)"
            ]
          },
          "metadata": {
            "tags": []
          },
          "execution_count": 70
        }
      ]
    },
    {
      "cell_type": "code",
      "metadata": {
        "id": "j9YUPAaUabZy"
      },
      "source": [
        "# Save the pickle and csv file\n",
        "df_ts.to_pickle('typescript_extension.pkl')\n",
        "df_ts.to_csv('typescript.csv')"
      ],
      "execution_count": null,
      "outputs": []
    },
    {
      "cell_type": "markdown",
      "metadata": {
        "id": "FEoxoGV2a_XL"
      },
      "source": [
        "Next step: Count the number of TypeScript repos as a percentage of all repos. Plot them on a graph"
      ]
    },
    {
      "cell_type": "code",
      "metadata": {
        "id": "pNzDF6sygunz"
      },
      "source": [
        "def countExtensionByYear(data):\n",
        "  dictionary = {}\n",
        "  for index, r in data.iterrows():\n",
        "    if r['year'] not in dictionary:\n",
        "      dictionary[r['year']] = 1\n",
        "    else:\n",
        "      dictionary[r['year']] = dictionary[r['year']] + 1\n",
        "  return dictionary"
      ],
      "execution_count": null,
      "outputs": []
    },
    {
      "cell_type": "code",
      "metadata": {
        "colab": {
          "base_uri": "https://localhost:8080/"
        },
        "id": "glR-NcNSjGng",
        "outputId": "6ca837d1-8a30-4daf-8850-4617f46caed1"
      },
      "source": [
        "df_ts.shape, df_sorted_by_date.shape"
      ],
      "execution_count": null,
      "outputs": [
        {
          "output_type": "execute_result",
          "data": {
            "text/plain": [
              "((791, 16), (10879, 16))"
            ]
          },
          "metadata": {
            "tags": []
          },
          "execution_count": 82
        }
      ]
    },
    {
      "cell_type": "code",
      "metadata": {
        "id": "ocFXJ_KdiZgS"
      },
      "source": [
        "ts_extension_by_year = countExtensionByYear(df_ts)\n",
        "total_extensions_by_year = countExtensionByYear(df_sorted_by_date)\n"
      ],
      "execution_count": null,
      "outputs": []
    },
    {
      "cell_type": "code",
      "metadata": {
        "id": "ZOmj4fBCi3gP"
      },
      "source": [
        "ts_line = np.array([0]+[t for t in ts_extension_by_year.values()])\n",
        "total_line = np.array([t for t in total_extensions_by_year.values()])\n",
        "ts_percent = [t[0]/t[1]*100 for t in zip(ts_line, total_line)]\n",
        "years = np.array([int(y) for y in total_extensions_by_year.keys()])"
      ],
      "execution_count": null,
      "outputs": []
    },
    {
      "cell_type": "code",
      "metadata": {
        "colab": {
          "base_uri": "https://localhost:8080/",
          "height": 269
        },
        "id": "F6ErF6QPlvg8",
        "outputId": "f25f9907-9c20-44f2-b371-d44237e8fda9"
      },
      "source": [
        "plt.plot(years, ts_line, label=\"TypeScript\")\n",
        "plt.plot(years, total_line, label=\"All\")\n",
        "plt.legend()\n",
        "plt.show()"
      ],
      "execution_count": null,
      "outputs": [
        {
          "output_type": "display_data",
          "data": {
            "image/png": "[encoded data removed]",
            "text/plain": [
              "<Figure size 432x288 with 1 Axes>"
            ]
          },
          "metadata": {
            "tags": [],
            "needs_background": "light"
          }
        }
      ]
    },
    {
      "cell_type": "code",
      "metadata": {
        "colab": {
          "base_uri": "https://localhost:8080/",
          "height": 267
        },
        "id": "ARvqsz5joMYy",
        "outputId": "4b9f960b-5978-4191-9447-3eadcd6ce60b"
      },
      "source": [
        "plt.plot(years, ts_percent, label=\"Percentage of TypeScript extensions\")\n",
        "plt.legend()\n",
        "plt.show()"
      ],
      "execution_count": null,
      "outputs": [
        {
          "output_type": "display_data",
          "data": {
            "image/png": "[encoded data removed]",
            "text/plain": [
              "<Figure size 432x288 with 1 Axes>"
            ]
          },
          "metadata": {
            "tags": [],
            "needs_background": "light"
          }
        }
      ]
    },
    {
      "cell_type": "code",
      "metadata": {
        "id": "prONw5bSxjI5"
      },
      "source": [
        "df = pd.read_csv('typescript.csv')"
      ],
      "execution_count": null,
      "outputs": []
    },
    {
      "cell_type": "code",
      "metadata": {
        "id": "eopBVVIwyAAF"
      },
      "source": [
        "text_by_y = {}"
      ],
      "execution_count": null,
      "outputs": []
    },
    {
      "cell_type": "code",
      "metadata": {
        "id": "zakpJyRsx4Yc"
      },
      "source": [
        "for i, j in df.iterrows():\n",
        "  if j['year'] not in text_by_y:\n",
        "    text_by_y[j['year']] = 1\n",
        "  else:\n",
        "    text_by_y[j['year']] += 1"
      ],
      "execution_count": null,
      "outputs": []
    },
    {
      "cell_type": "code",
      "metadata": {
        "id": "oJkxdutByV8F",
        "colab": {
          "base_uri": "https://localhost:8080/"
        },
        "outputId": "7de8f32b-0932-4e8a-ab22-6dd9ae57739e"
      },
      "source": [
        "text_by_y"
      ],
      "execution_count": null,
      "outputs": [
        {
          "output_type": "execute_result",
          "data": {
            "text/plain": [
              "{2010: 1,\n",
              " 2011: 1,\n",
              " 2012: 3,\n",
              " 2013: 2,\n",
              " 2014: 10,\n",
              " 2015: 21,\n",
              " 2016: 38,\n",
              " 2017: 108,\n",
              " 2018: 130,\n",
              " 2019: 188,\n",
              " 2020: 245,\n",
              " 2021: 44}"
            ]
          },
          "metadata": {
            "tags": []
          },
          "execution_count": 7
        }
      ]
    },
    {
      "cell_type": "code",
      "metadata": {
        "colab": {
          "base_uri": "https://localhost:8080/"
        },
        "id": "G--1-90mi_to",
        "outputId": "455352d9-444b-45cb-e8c3-08fe1b068219"
      },
      "source": [
        "total_extensions_by_year"
      ],
      "execution_count": null,
      "outputs": [
        {
          "output_type": "execute_result",
          "data": {
            "text/plain": [
              "{'2009': 5,\n",
              " '2010': 25,\n",
              " '2011': 36,\n",
              " '2012': 78,\n",
              " '2013': 153,\n",
              " '2014': 246,\n",
              " '2015': 444,\n",
              " '2016': 826,\n",
              " '2017': 2381,\n",
              " '2018': 2139,\n",
              " '2019': 1901,\n",
              " '2020': 2265,\n",
              " '2021': 380}"
            ]
          },
          "metadata": {
            "tags": []
          },
          "execution_count": 86
        }
      ]
    },
    {
      "cell_type": "code",
      "metadata": {
        "id": "dZhHJolohsDj"
      },
      "source": [
        ""
      ],
      "execution_count": null,
      "outputs": []
    },
    {
      "cell_type": "markdown",
      "metadata": {
        "id": "odpfx0ZBGXSO"
      },
      "source": [
        "### Themes of browser extension projects"
      ]
    },
    {
      "cell_type": "code",
      "metadata": {
        "id": "7Q0EZj9C_WDD"
      },
      "source": [
        "# Use the orginal dataset \n",
        "# Remove the repos without topics\n",
        "# Remove non English descriptions\n",
        "# Remove punctuations, stopwords, tokenize, lemmatize\n",
        "# Draw a wordcloud\n",
        "# Apply LDA"
      ],
      "execution_count": null,
      "outputs": []
    },
    {
      "cell_type": "code",
      "metadata": {
        "id": "_RC785ks_umb"
      },
      "source": [
        ""
      ],
      "execution_count": null,
      "outputs": []
    },
    {
      "cell_type": "code",
      "metadata": {
        "colab": {
          "base_uri": "https://localhost:8080/"
        },
        "id": "oc_HhIr6_zMH",
        "outputId": "809d60a7-b1ea-423c-8d98-0a23036368b2"
      },
      "source": [
        "one_browser, two_browser, more_browser"
      ],
      "execution_count": null,
      "outputs": [
        {
          "output_type": "execute_result",
          "data": {
            "text/plain": [
              "([0, 10, 22, 28, 62, 111, 197, 371, 703, 2061, 1823, 1542, 1791, 305],\n",
              " [0, 0, 2, 3, 3, 19, 26, 35, 61, 196, 183, 217, 254, 46],\n",
              " [0, 0, 1, 2, 4, 10, 8, 10, 23, 36, 34, 32, 64, 5])"
            ]
          },
          "metadata": {
            "tags": []
          },
          "execution_count": 76
        }
      ]
    },
    {
      "cell_type": "code",
      "metadata": {
        "colab": {
          "base_uri": "https://localhost:8080/",
          "height": 36
        },
        "id": "MrH_hnyFBRQg",
        "outputId": "4b6e7c1b-ad1b-441a-922d-675c4e1b6bc6"
      },
      "source": [
        "df_sorted_by_date"
      ],
      "execution_count": null,
      "outputs": [
        {
          "output_type": "execute_result",
          "data": {
            "application/vnd.google.colaboratory.intrinsic+json": {
              "type": "string"
            },
            "text/plain": [
              "'[]'"
            ]
          },
          "metadata": {
            "tags": []
          },
          "execution_count": 37
        }
      ]
    },
    {
      "cell_type": "code",
      "metadata": {
        "colab": {
          "base_uri": "https://localhost:8080/"
        },
        "id": "CI2-7t9JA-Fe",
        "outputId": "d0120c42-63f4-457f-81c5-03b33a3f1078"
      },
      "source": [
        "count = 0\n",
        "for key in df.iterrows():\n",
        "  count = count +1\n",
        "print(count)"
      ],
      "execution_count": null,
      "outputs": [
        {
          "output_type": "stream",
          "text": [
            "11267\n"
          ],
          "name": "stdout"
        }
      ]
    },
    {
      "cell_type": "code",
      "metadata": {
        "colab": {
          "base_uri": "https://localhost:8080/"
        },
        "id": "pnkP0RRv8yok",
        "outputId": "a74849f3-469b-474f-a4a1-1fcebfeb6adc"
      },
      "source": [
        "len(df_sorted['name'].tolist())"
      ],
      "execution_count": null,
      "outputs": [
        {
          "output_type": "execute_result",
          "data": {
            "text/plain": [
              "11267"
            ]
          },
          "metadata": {
            "tags": []
          },
          "execution_count": 56
        }
      ]
    },
    {
      "cell_type": "code",
      "metadata": {
        "colab": {
          "base_uri": "https://localhost:8080/",
          "height": 669
        },
        "id": "Awxvv0Zw-m12",
        "outputId": "9c75f811-fa73-438f-9ccb-83efc25f482b"
      },
      "source": [
        "df_sorted['year']"
      ],
      "execution_count": null,
      "outputs": [
        {
          "output_type": "error",
          "ename": "KeyError",
          "evalue": "ignored",
          "traceback": [
            "\u001b[0;31m---------------------------------------------------------------------------\u001b[0m",
            "\u001b[0;31mKeyError\u001b[0m                                  Traceback (most recent call last)",
            "\u001b[0;32m/usr/local/lib/python3.7/dist-packages/pandas/core/indexes/base.py\u001b[0m in \u001b[0;36mget_loc\u001b[0;34m(self, key, method, tolerance)\u001b[0m\n\u001b[1;32m   2897\u001b[0m             \u001b[0;32mtry\u001b[0m\u001b[0;34m:\u001b[0m\u001b[0;34m\u001b[0m\u001b[0;34m\u001b[0m\u001b[0m\n\u001b[0;32m-> 2898\u001b[0;31m                 \u001b[0;32mreturn\u001b[0m \u001b[0mself\u001b[0m\u001b[0;34m.\u001b[0m\u001b[0m_engine\u001b[0m\u001b[0;34m.\u001b[0m\u001b[0mget_loc\u001b[0m\u001b[0;34m(\u001b[0m\u001b[0mcasted_key\u001b[0m\u001b[0;34m)\u001b[0m\u001b[0;34m\u001b[0m\u001b[0;34m\u001b[0m\u001b[0m\n\u001b[0m\u001b[1;32m   2899\u001b[0m             \u001b[0;32mexcept\u001b[0m \u001b[0mKeyError\u001b[0m \u001b[0;32mas\u001b[0m \u001b[0merr\u001b[0m\u001b[0;34m:\u001b[0m\u001b[0;34m\u001b[0m\u001b[0;34m\u001b[0m\u001b[0m\n",
            "\u001b[0;32mpandas/_libs/index.pyx\u001b[0m in \u001b[0;36mpandas._libs.index.IndexEngine.get_loc\u001b[0;34m()\u001b[0m\n",
            "\u001b[0;32mpandas/_libs/index.pyx\u001b[0m in \u001b[0;36mpandas._libs.index.IndexEngine.get_loc\u001b[0;34m()\u001b[0m\n",
            "\u001b[0;32mpandas/_libs/hashtable_class_helper.pxi\u001b[0m in \u001b[0;36mpandas._libs.hashtable.PyObjectHashTable.get_item\u001b[0;34m()\u001b[0m\n",
            "\u001b[0;32mpandas/_libs/hashtable_class_helper.pxi\u001b[0m in \u001b[0;36mpandas._libs.hashtable.PyObjectHashTable.get_item\u001b[0;34m()\u001b[0m\n",
            "\u001b[0;31mKeyError\u001b[0m: 'year'",
            "\nThe above exception was the direct cause of the following exception:\n",
            "\u001b[0;31mKeyError\u001b[0m                                  Traceback (most recent call last)",
            "\u001b[0;32m<ipython-input-45-f0a4cc2a6e6b>\u001b[0m in \u001b[0;36m<module>\u001b[0;34m()\u001b[0m\n\u001b[0;32m----> 1\u001b[0;31m \u001b[0mdf_sorted\u001b[0m\u001b[0;34m[\u001b[0m\u001b[0;34m'year'\u001b[0m\u001b[0;34m]\u001b[0m\u001b[0;34m\u001b[0m\u001b[0;34m\u001b[0m\u001b[0m\n\u001b[0m",
            "\u001b[0;32m/usr/local/lib/python3.7/dist-packages/pandas/core/frame.py\u001b[0m in \u001b[0;36m__getitem__\u001b[0;34m(self, key)\u001b[0m\n\u001b[1;32m   2904\u001b[0m             \u001b[0;32mif\u001b[0m \u001b[0mself\u001b[0m\u001b[0;34m.\u001b[0m\u001b[0mcolumns\u001b[0m\u001b[0;34m.\u001b[0m\u001b[0mnlevels\u001b[0m \u001b[0;34m>\u001b[0m \u001b[0;36m1\u001b[0m\u001b[0;34m:\u001b[0m\u001b[0;34m\u001b[0m\u001b[0;34m\u001b[0m\u001b[0m\n\u001b[1;32m   2905\u001b[0m                 \u001b[0;32mreturn\u001b[0m \u001b[0mself\u001b[0m\u001b[0;34m.\u001b[0m\u001b[0m_getitem_multilevel\u001b[0m\u001b[0;34m(\u001b[0m\u001b[0mkey\u001b[0m\u001b[0;34m)\u001b[0m\u001b[0;34m\u001b[0m\u001b[0;34m\u001b[0m\u001b[0m\n\u001b[0;32m-> 2906\u001b[0;31m             \u001b[0mindexer\u001b[0m \u001b[0;34m=\u001b[0m \u001b[0mself\u001b[0m\u001b[0;34m.\u001b[0m\u001b[0mcolumns\u001b[0m\u001b[0;34m.\u001b[0m\u001b[0mget_loc\u001b[0m\u001b[0;34m(\u001b[0m\u001b[0mkey\u001b[0m\u001b[0;34m)\u001b[0m\u001b[0;34m\u001b[0m\u001b[0;34m\u001b[0m\u001b[0m\n\u001b[0m\u001b[1;32m   2907\u001b[0m             \u001b[0;32mif\u001b[0m \u001b[0mis_integer\u001b[0m\u001b[0;34m(\u001b[0m\u001b[0mindexer\u001b[0m\u001b[0;34m)\u001b[0m\u001b[0;34m:\u001b[0m\u001b[0;34m\u001b[0m\u001b[0;34m\u001b[0m\u001b[0m\n\u001b[1;32m   2908\u001b[0m                 \u001b[0mindexer\u001b[0m \u001b[0;34m=\u001b[0m \u001b[0;34m[\u001b[0m\u001b[0mindexer\u001b[0m\u001b[0;34m]\u001b[0m\u001b[0;34m\u001b[0m\u001b[0;34m\u001b[0m\u001b[0m\n",
            "\u001b[0;32m/usr/local/lib/python3.7/dist-packages/pandas/core/indexes/base.py\u001b[0m in \u001b[0;36mget_loc\u001b[0;34m(self, key, method, tolerance)\u001b[0m\n\u001b[1;32m   2898\u001b[0m                 \u001b[0;32mreturn\u001b[0m \u001b[0mself\u001b[0m\u001b[0;34m.\u001b[0m\u001b[0m_engine\u001b[0m\u001b[0;34m.\u001b[0m\u001b[0mget_loc\u001b[0m\u001b[0;34m(\u001b[0m\u001b[0mcasted_key\u001b[0m\u001b[0;34m)\u001b[0m\u001b[0;34m\u001b[0m\u001b[0;34m\u001b[0m\u001b[0m\n\u001b[1;32m   2899\u001b[0m             \u001b[0;32mexcept\u001b[0m \u001b[0mKeyError\u001b[0m \u001b[0;32mas\u001b[0m \u001b[0merr\u001b[0m\u001b[0;34m:\u001b[0m\u001b[0;34m\u001b[0m\u001b[0;34m\u001b[0m\u001b[0m\n\u001b[0;32m-> 2900\u001b[0;31m                 \u001b[0;32mraise\u001b[0m \u001b[0mKeyError\u001b[0m\u001b[0;34m(\u001b[0m\u001b[0mkey\u001b[0m\u001b[0;34m)\u001b[0m \u001b[0;32mfrom\u001b[0m \u001b[0merr\u001b[0m\u001b[0;34m\u001b[0m\u001b[0;34m\u001b[0m\u001b[0m\n\u001b[0m\u001b[1;32m   2901\u001b[0m \u001b[0;34m\u001b[0m\u001b[0m\n\u001b[1;32m   2902\u001b[0m         \u001b[0;32mif\u001b[0m \u001b[0mtolerance\u001b[0m \u001b[0;32mis\u001b[0m \u001b[0;32mnot\u001b[0m \u001b[0;32mNone\u001b[0m\u001b[0;34m:\u001b[0m\u001b[0;34m\u001b[0m\u001b[0;34m\u001b[0m\u001b[0m\n",
            "\u001b[0;31mKeyError\u001b[0m: 'year'"
          ]
        }
      ]
    },
    {
      "cell_type": "code",
      "metadata": {
        "colab": {
          "base_uri": "https://localhost:8080/"
        },
        "id": "tcUk8BCK89CQ",
        "outputId": "6f56f215-892a-4045-b32a-c1e6eeda65a3"
      },
      "source": [
        "len(set(df_sorted['name'].tolist()))"
      ],
      "execution_count": null,
      "outputs": [
        {
          "output_type": "execute_result",
          "data": {
            "text/plain": [
              "10972"
            ]
          },
          "metadata": {
            "tags": []
          },
          "execution_count": 35
        }
      ]
    },
    {
      "cell_type": "code",
      "metadata": {
        "colab": {
          "base_uri": "https://localhost:8080/"
        },
        "id": "jpW6CqKV3PIQ",
        "outputId": "05bea9df-3bab-45f6-d243-52742292c53e"
      },
      "source": [
        "# Sort by year\n",
        "indices = []\n",
        "for index, row in df.iterrows():\n",
        "  indices.append(index)\n",
        "\n",
        "len(indices), len(set(indices))"
      ],
      "execution_count": null,
      "outputs": [
        {
          "output_type": "execute_result",
          "data": {
            "text/plain": [
              "(11267, 7897)"
            ]
          },
          "metadata": {
            "tags": []
          },
          "execution_count": 37
        }
      ]
    },
    {
      "cell_type": "code",
      "metadata": {
        "colab": {
          "base_uri": "https://localhost:8080/",
          "height": 378
        },
        "id": "FT5YMVpa50LM",
        "outputId": "c70b6a60-667f-434d-843b-3cc787ddeacf"
      },
      "source": [
        "# Attach a date column to the dataframe\n",
        "df_sorted['year'] = df['created_at'].str.split('-')[0]"
      ],
      "execution_count": null,
      "outputs": [
        {
          "output_type": "error",
          "ename": "ValueError",
          "evalue": "ignored",
          "traceback": [
            "\u001b[0;31m---------------------------------------------------------------------------\u001b[0m",
            "\u001b[0;31mValueError\u001b[0m                                Traceback (most recent call last)",
            "\u001b[0;32m<ipython-input-27-9c0f32f52687>\u001b[0m in \u001b[0;36m<module>\u001b[0;34m()\u001b[0m\n\u001b[1;32m      1\u001b[0m \u001b[0;31m# Attach a date column to the dataframe\u001b[0m\u001b[0;34m\u001b[0m\u001b[0;34m\u001b[0m\u001b[0;34m\u001b[0m\u001b[0m\n\u001b[0;32m----> 2\u001b[0;31m \u001b[0mdf_sorted\u001b[0m\u001b[0;34m[\u001b[0m\u001b[0;34m'year'\u001b[0m\u001b[0;34m]\u001b[0m \u001b[0;34m=\u001b[0m \u001b[0mdf\u001b[0m\u001b[0;34m[\u001b[0m\u001b[0;34m'created_at'\u001b[0m\u001b[0;34m]\u001b[0m\u001b[0;34m.\u001b[0m\u001b[0mstr\u001b[0m\u001b[0;34m.\u001b[0m\u001b[0msplit\u001b[0m\u001b[0;34m(\u001b[0m\u001b[0;34m'-'\u001b[0m\u001b[0;34m)\u001b[0m\u001b[0;34m[\u001b[0m\u001b[0;36m0\u001b[0m\u001b[0;34m]\u001b[0m\u001b[0;34m\u001b[0m\u001b[0;34m\u001b[0m\u001b[0m\n\u001b[0m",
            "\u001b[0;32m/usr/local/lib/python3.7/dist-packages/pandas/core/frame.py\u001b[0m in \u001b[0;36m__setitem__\u001b[0;34m(self, key, value)\u001b[0m\n\u001b[1;32m   3042\u001b[0m         \u001b[0;32melse\u001b[0m\u001b[0;34m:\u001b[0m\u001b[0;34m\u001b[0m\u001b[0;34m\u001b[0m\u001b[0m\n\u001b[1;32m   3043\u001b[0m             \u001b[0;31m# set column\u001b[0m\u001b[0;34m\u001b[0m\u001b[0;34m\u001b[0m\u001b[0;34m\u001b[0m\u001b[0m\n\u001b[0;32m-> 3044\u001b[0;31m             \u001b[0mself\u001b[0m\u001b[0;34m.\u001b[0m\u001b[0m_set_item\u001b[0m\u001b[0;34m(\u001b[0m\u001b[0mkey\u001b[0m\u001b[0;34m,\u001b[0m \u001b[0mvalue\u001b[0m\u001b[0;34m)\u001b[0m\u001b[0;34m\u001b[0m\u001b[0;34m\u001b[0m\u001b[0m\n\u001b[0m\u001b[1;32m   3045\u001b[0m \u001b[0;34m\u001b[0m\u001b[0m\n\u001b[1;32m   3046\u001b[0m     \u001b[0;32mdef\u001b[0m \u001b[0m_setitem_slice\u001b[0m\u001b[0;34m(\u001b[0m\u001b[0mself\u001b[0m\u001b[0;34m,\u001b[0m \u001b[0mkey\u001b[0m\u001b[0;34m:\u001b[0m \u001b[0mslice\u001b[0m\u001b[0;34m,\u001b[0m \u001b[0mvalue\u001b[0m\u001b[0;34m)\u001b[0m\u001b[0;34m:\u001b[0m\u001b[0;34m\u001b[0m\u001b[0;34m\u001b[0m\u001b[0m\n",
            "\u001b[0;32m/usr/local/lib/python3.7/dist-packages/pandas/core/frame.py\u001b[0m in \u001b[0;36m_set_item\u001b[0;34m(self, key, value)\u001b[0m\n\u001b[1;32m   3118\u001b[0m         \"\"\"\n\u001b[1;32m   3119\u001b[0m         \u001b[0mself\u001b[0m\u001b[0;34m.\u001b[0m\u001b[0m_ensure_valid_index\u001b[0m\u001b[0;34m(\u001b[0m\u001b[0mvalue\u001b[0m\u001b[0;34m)\u001b[0m\u001b[0;34m\u001b[0m\u001b[0;34m\u001b[0m\u001b[0m\n\u001b[0;32m-> 3120\u001b[0;31m         \u001b[0mvalue\u001b[0m \u001b[0;34m=\u001b[0m \u001b[0mself\u001b[0m\u001b[0;34m.\u001b[0m\u001b[0m_sanitize_column\u001b[0m\u001b[0;34m(\u001b[0m\u001b[0mkey\u001b[0m\u001b[0;34m,\u001b[0m \u001b[0mvalue\u001b[0m\u001b[0;34m)\u001b[0m\u001b[0;34m\u001b[0m\u001b[0;34m\u001b[0m\u001b[0m\n\u001b[0m\u001b[1;32m   3121\u001b[0m         \u001b[0mNDFrame\u001b[0m\u001b[0;34m.\u001b[0m\u001b[0m_set_item\u001b[0m\u001b[0;34m(\u001b[0m\u001b[0mself\u001b[0m\u001b[0;34m,\u001b[0m \u001b[0mkey\u001b[0m\u001b[0;34m,\u001b[0m \u001b[0mvalue\u001b[0m\u001b[0;34m)\u001b[0m\u001b[0;34m\u001b[0m\u001b[0;34m\u001b[0m\u001b[0m\n\u001b[1;32m   3122\u001b[0m \u001b[0;34m\u001b[0m\u001b[0m\n",
            "\u001b[0;32m/usr/local/lib/python3.7/dist-packages/pandas/core/frame.py\u001b[0m in \u001b[0;36m_sanitize_column\u001b[0;34m(self, key, value, broadcast)\u001b[0m\n\u001b[1;32m   3743\u001b[0m \u001b[0;34m\u001b[0m\u001b[0m\n\u001b[1;32m   3744\u001b[0m         \u001b[0;32mif\u001b[0m \u001b[0misinstance\u001b[0m\u001b[0;34m(\u001b[0m\u001b[0mvalue\u001b[0m\u001b[0;34m,\u001b[0m \u001b[0mSeries\u001b[0m\u001b[0;34m)\u001b[0m\u001b[0;34m:\u001b[0m\u001b[0;34m\u001b[0m\u001b[0;34m\u001b[0m\u001b[0m\n\u001b[0;32m-> 3745\u001b[0;31m             \u001b[0mvalue\u001b[0m \u001b[0;34m=\u001b[0m \u001b[0mreindexer\u001b[0m\u001b[0;34m(\u001b[0m\u001b[0mvalue\u001b[0m\u001b[0;34m)\u001b[0m\u001b[0;34m\u001b[0m\u001b[0;34m\u001b[0m\u001b[0m\n\u001b[0m\u001b[1;32m   3746\u001b[0m \u001b[0;34m\u001b[0m\u001b[0m\n\u001b[1;32m   3747\u001b[0m         \u001b[0;32melif\u001b[0m \u001b[0misinstance\u001b[0m\u001b[0;34m(\u001b[0m\u001b[0mvalue\u001b[0m\u001b[0;34m,\u001b[0m \u001b[0mDataFrame\u001b[0m\u001b[0;34m)\u001b[0m\u001b[0;34m:\u001b[0m\u001b[0;34m\u001b[0m\u001b[0;34m\u001b[0m\u001b[0m\n",
            "\u001b[0;32m/usr/local/lib/python3.7/dist-packages/pandas/core/frame.py\u001b[0m in \u001b[0;36mreindexer\u001b[0;34m(value)\u001b[0m\n\u001b[1;32m   3734\u001b[0m                     \u001b[0;32mif\u001b[0m \u001b[0;32mnot\u001b[0m \u001b[0mvalue\u001b[0m\u001b[0;34m.\u001b[0m\u001b[0mindex\u001b[0m\u001b[0;34m.\u001b[0m\u001b[0mis_unique\u001b[0m\u001b[0;34m:\u001b[0m\u001b[0;34m\u001b[0m\u001b[0;34m\u001b[0m\u001b[0m\n\u001b[1;32m   3735\u001b[0m                         \u001b[0;31m# duplicate axis\u001b[0m\u001b[0;34m\u001b[0m\u001b[0;34m\u001b[0m\u001b[0;34m\u001b[0m\u001b[0m\n\u001b[0;32m-> 3736\u001b[0;31m                         \u001b[0;32mraise\u001b[0m \u001b[0merr\u001b[0m\u001b[0;34m\u001b[0m\u001b[0;34m\u001b[0m\u001b[0m\n\u001b[0m\u001b[1;32m   3737\u001b[0m \u001b[0;34m\u001b[0m\u001b[0m\n\u001b[1;32m   3738\u001b[0m                     \u001b[0;31m# other\u001b[0m\u001b[0;34m\u001b[0m\u001b[0;34m\u001b[0m\u001b[0;34m\u001b[0m\u001b[0m\n",
            "\u001b[0;32m/usr/local/lib/python3.7/dist-packages/pandas/core/frame.py\u001b[0m in \u001b[0;36mreindexer\u001b[0;34m(value)\u001b[0m\n\u001b[1;32m   3729\u001b[0m                 \u001b[0;31m# GH 4107\u001b[0m\u001b[0;34m\u001b[0m\u001b[0;34m\u001b[0m\u001b[0;34m\u001b[0m\u001b[0m\n\u001b[1;32m   3730\u001b[0m                 \u001b[0;32mtry\u001b[0m\u001b[0;34m:\u001b[0m\u001b[0;34m\u001b[0m\u001b[0;34m\u001b[0m\u001b[0m\n\u001b[0;32m-> 3731\u001b[0;31m                     \u001b[0mvalue\u001b[0m \u001b[0;34m=\u001b[0m \u001b[0mvalue\u001b[0m\u001b[0;34m.\u001b[0m\u001b[0mreindex\u001b[0m\u001b[0;34m(\u001b[0m\u001b[0mself\u001b[0m\u001b[0;34m.\u001b[0m\u001b[0mindex\u001b[0m\u001b[0;34m)\u001b[0m\u001b[0;34m.\u001b[0m\u001b[0m_values\u001b[0m\u001b[0;34m\u001b[0m\u001b[0;34m\u001b[0m\u001b[0m\n\u001b[0m\u001b[1;32m   3732\u001b[0m                 \u001b[0;32mexcept\u001b[0m \u001b[0mValueError\u001b[0m \u001b[0;32mas\u001b[0m \u001b[0merr\u001b[0m\u001b[0;34m:\u001b[0m\u001b[0;34m\u001b[0m\u001b[0;34m\u001b[0m\u001b[0m\n\u001b[1;32m   3733\u001b[0m                     \u001b[0;31m# raised in MultiIndex.from_tuples, see test_insert_error_msmgs\u001b[0m\u001b[0;34m\u001b[0m\u001b[0;34m\u001b[0m\u001b[0;34m\u001b[0m\u001b[0m\n",
            "\u001b[0;32m/usr/local/lib/python3.7/dist-packages/pandas/core/series.py\u001b[0m in \u001b[0;36mreindex\u001b[0;34m(self, index, **kwargs)\u001b[0m\n\u001b[1;32m   4410\u001b[0m     )\n\u001b[1;32m   4411\u001b[0m     \u001b[0;32mdef\u001b[0m \u001b[0mreindex\u001b[0m\u001b[0;34m(\u001b[0m\u001b[0mself\u001b[0m\u001b[0;34m,\u001b[0m \u001b[0mindex\u001b[0m\u001b[0;34m=\u001b[0m\u001b[0;32mNone\u001b[0m\u001b[0;34m,\u001b[0m \u001b[0;34m**\u001b[0m\u001b[0mkwargs\u001b[0m\u001b[0;34m)\u001b[0m\u001b[0;34m:\u001b[0m\u001b[0;34m\u001b[0m\u001b[0;34m\u001b[0m\u001b[0m\n\u001b[0;32m-> 4412\u001b[0;31m         \u001b[0;32mreturn\u001b[0m \u001b[0msuper\u001b[0m\u001b[0;34m(\u001b[0m\u001b[0;34m)\u001b[0m\u001b[0;34m.\u001b[0m\u001b[0mreindex\u001b[0m\u001b[0;34m(\u001b[0m\u001b[0mindex\u001b[0m\u001b[0;34m=\u001b[0m\u001b[0mindex\u001b[0m\u001b[0;34m,\u001b[0m \u001b[0;34m**\u001b[0m\u001b[0mkwargs\u001b[0m\u001b[0;34m)\u001b[0m\u001b[0;34m\u001b[0m\u001b[0;34m\u001b[0m\u001b[0m\n\u001b[0m\u001b[1;32m   4413\u001b[0m \u001b[0;34m\u001b[0m\u001b[0m\n\u001b[1;32m   4414\u001b[0m     def drop(\n",
            "\u001b[0;32m/usr/local/lib/python3.7/dist-packages/pandas/core/generic.py\u001b[0m in \u001b[0;36mreindex\u001b[0;34m(self, *args, **kwargs)\u001b[0m\n\u001b[1;32m   4462\u001b[0m         \u001b[0;31m# perform the reindex on the axes\u001b[0m\u001b[0;34m\u001b[0m\u001b[0;34m\u001b[0m\u001b[0;34m\u001b[0m\u001b[0m\n\u001b[1;32m   4463\u001b[0m         return self._reindex_axes(\n\u001b[0;32m-> 4464\u001b[0;31m             \u001b[0maxes\u001b[0m\u001b[0;34m,\u001b[0m \u001b[0mlevel\u001b[0m\u001b[0;34m,\u001b[0m \u001b[0mlimit\u001b[0m\u001b[0;34m,\u001b[0m \u001b[0mtolerance\u001b[0m\u001b[0;34m,\u001b[0m \u001b[0mmethod\u001b[0m\u001b[0;34m,\u001b[0m \u001b[0mfill_value\u001b[0m\u001b[0;34m,\u001b[0m \u001b[0mcopy\u001b[0m\u001b[0;34m\u001b[0m\u001b[0;34m\u001b[0m\u001b[0m\n\u001b[0m\u001b[1;32m   4465\u001b[0m         ).__finalize__(self, method=\"reindex\")\n\u001b[1;32m   4466\u001b[0m \u001b[0;34m\u001b[0m\u001b[0m\n",
            "\u001b[0;32m/usr/local/lib/python3.7/dist-packages/pandas/core/generic.py\u001b[0m in \u001b[0;36m_reindex_axes\u001b[0;34m(self, axes, level, limit, tolerance, method, fill_value, copy)\u001b[0m\n\u001b[1;32m   4485\u001b[0m                 \u001b[0mfill_value\u001b[0m\u001b[0;34m=\u001b[0m\u001b[0mfill_value\u001b[0m\u001b[0;34m,\u001b[0m\u001b[0;34m\u001b[0m\u001b[0;34m\u001b[0m\u001b[0m\n\u001b[1;32m   4486\u001b[0m                 \u001b[0mcopy\u001b[0m\u001b[0;34m=\u001b[0m\u001b[0mcopy\u001b[0m\u001b[0;34m,\u001b[0m\u001b[0;34m\u001b[0m\u001b[0;34m\u001b[0m\u001b[0m\n\u001b[0;32m-> 4487\u001b[0;31m                 \u001b[0mallow_dups\u001b[0m\u001b[0;34m=\u001b[0m\u001b[0;32mFalse\u001b[0m\u001b[0;34m,\u001b[0m\u001b[0;34m\u001b[0m\u001b[0;34m\u001b[0m\u001b[0m\n\u001b[0m\u001b[1;32m   4488\u001b[0m             )\n\u001b[1;32m   4489\u001b[0m \u001b[0;34m\u001b[0m\u001b[0m\n",
            "\u001b[0;32m/usr/local/lib/python3.7/dist-packages/pandas/core/generic.py\u001b[0m in \u001b[0;36m_reindex_with_indexers\u001b[0;34m(self, reindexers, fill_value, copy, allow_dups)\u001b[0m\n\u001b[1;32m   4530\u001b[0m                 \u001b[0mfill_value\u001b[0m\u001b[0;34m=\u001b[0m\u001b[0mfill_value\u001b[0m\u001b[0;34m,\u001b[0m\u001b[0;34m\u001b[0m\u001b[0;34m\u001b[0m\u001b[0m\n\u001b[1;32m   4531\u001b[0m                 \u001b[0mallow_dups\u001b[0m\u001b[0;34m=\u001b[0m\u001b[0mallow_dups\u001b[0m\u001b[0;34m,\u001b[0m\u001b[0;34m\u001b[0m\u001b[0;34m\u001b[0m\u001b[0m\n\u001b[0;32m-> 4532\u001b[0;31m                 \u001b[0mcopy\u001b[0m\u001b[0;34m=\u001b[0m\u001b[0mcopy\u001b[0m\u001b[0;34m,\u001b[0m\u001b[0;34m\u001b[0m\u001b[0;34m\u001b[0m\u001b[0m\n\u001b[0m\u001b[1;32m   4533\u001b[0m             )\n\u001b[1;32m   4534\u001b[0m             \u001b[0;31m# If we've made a copy once, no need to make another one\u001b[0m\u001b[0;34m\u001b[0m\u001b[0;34m\u001b[0m\u001b[0;34m\u001b[0m\u001b[0m\n",
            "\u001b[0;32m/usr/local/lib/python3.7/dist-packages/pandas/core/internals/managers.py\u001b[0m in \u001b[0;36mreindex_indexer\u001b[0;34m(self, new_axis, indexer, axis, fill_value, allow_dups, copy, consolidate)\u001b[0m\n\u001b[1;32m   1283\u001b[0m         \u001b[0;31m# some axes don't allow reindexing with dups\u001b[0m\u001b[0;34m\u001b[0m\u001b[0;34m\u001b[0m\u001b[0;34m\u001b[0m\u001b[0m\n\u001b[1;32m   1284\u001b[0m         \u001b[0;32mif\u001b[0m \u001b[0;32mnot\u001b[0m \u001b[0mallow_dups\u001b[0m\u001b[0;34m:\u001b[0m\u001b[0;34m\u001b[0m\u001b[0;34m\u001b[0m\u001b[0m\n\u001b[0;32m-> 1285\u001b[0;31m             \u001b[0mself\u001b[0m\u001b[0;34m.\u001b[0m\u001b[0maxes\u001b[0m\u001b[0;34m[\u001b[0m\u001b[0maxis\u001b[0m\u001b[0;34m]\u001b[0m\u001b[0;34m.\u001b[0m\u001b[0m_can_reindex\u001b[0m\u001b[0;34m(\u001b[0m\u001b[0mindexer\u001b[0m\u001b[0;34m)\u001b[0m\u001b[0;34m\u001b[0m\u001b[0;34m\u001b[0m\u001b[0m\n\u001b[0m\u001b[1;32m   1286\u001b[0m \u001b[0;34m\u001b[0m\u001b[0m\n\u001b[1;32m   1287\u001b[0m         \u001b[0;32mif\u001b[0m \u001b[0maxis\u001b[0m \u001b[0;34m>=\u001b[0m \u001b[0mself\u001b[0m\u001b[0;34m.\u001b[0m\u001b[0mndim\u001b[0m\u001b[0;34m:\u001b[0m\u001b[0;34m\u001b[0m\u001b[0;34m\u001b[0m\u001b[0m\n",
            "\u001b[0;32m/usr/local/lib/python3.7/dist-packages/pandas/core/indexes/base.py\u001b[0m in \u001b[0;36m_can_reindex\u001b[0;34m(self, indexer)\u001b[0m\n\u001b[1;32m   3290\u001b[0m         \u001b[0;31m# trying to reindex on an axis with duplicates\u001b[0m\u001b[0;34m\u001b[0m\u001b[0;34m\u001b[0m\u001b[0;34m\u001b[0m\u001b[0m\n\u001b[1;32m   3291\u001b[0m         \u001b[0;32mif\u001b[0m \u001b[0;32mnot\u001b[0m \u001b[0mself\u001b[0m\u001b[0;34m.\u001b[0m\u001b[0mis_unique\u001b[0m \u001b[0;32mand\u001b[0m \u001b[0mlen\u001b[0m\u001b[0;34m(\u001b[0m\u001b[0mindexer\u001b[0m\u001b[0;34m)\u001b[0m\u001b[0;34m:\u001b[0m\u001b[0;34m\u001b[0m\u001b[0;34m\u001b[0m\u001b[0m\n\u001b[0;32m-> 3292\u001b[0;31m             \u001b[0;32mraise\u001b[0m \u001b[0mValueError\u001b[0m\u001b[0;34m(\u001b[0m\u001b[0;34m\"cannot reindex from a duplicate axis\"\u001b[0m\u001b[0;34m)\u001b[0m\u001b[0;34m\u001b[0m\u001b[0;34m\u001b[0m\u001b[0m\n\u001b[0m\u001b[1;32m   3293\u001b[0m \u001b[0;34m\u001b[0m\u001b[0m\n\u001b[1;32m   3294\u001b[0m     \u001b[0;32mdef\u001b[0m \u001b[0mreindex\u001b[0m\u001b[0;34m(\u001b[0m\u001b[0mself\u001b[0m\u001b[0;34m,\u001b[0m \u001b[0mtarget\u001b[0m\u001b[0;34m,\u001b[0m \u001b[0mmethod\u001b[0m\u001b[0;34m=\u001b[0m\u001b[0;32mNone\u001b[0m\u001b[0;34m,\u001b[0m \u001b[0mlevel\u001b[0m\u001b[0;34m=\u001b[0m\u001b[0;32mNone\u001b[0m\u001b[0;34m,\u001b[0m \u001b[0mlimit\u001b[0m\u001b[0;34m=\u001b[0m\u001b[0;32mNone\u001b[0m\u001b[0;34m,\u001b[0m \u001b[0mtolerance\u001b[0m\u001b[0;34m=\u001b[0m\u001b[0;32mNone\u001b[0m\u001b[0;34m)\u001b[0m\u001b[0;34m:\u001b[0m\u001b[0;34m\u001b[0m\u001b[0;34m\u001b[0m\u001b[0m\n",
            "\u001b[0;31mValueError\u001b[0m: cannot reindex from a duplicate axis"
          ]
        }
      ]
    },
    {
      "cell_type": "code",
      "metadata": {
        "colab": {
          "base_uri": "https://localhost:8080/",
          "height": 36
        },
        "id": "Neov_bxV5G1L",
        "outputId": "930b21ed-f463-4ff3-9afa-fcfe4abd45f5"
      },
      "source": [
        "df_sorted.iloc[1]['created_at'].split('-')[0]"
      ],
      "execution_count": null,
      "outputs": [
        {
          "output_type": "execute_result",
          "data": {
            "application/vnd.google.colaboratory.intrinsic+json": {
              "type": "string"
            },
            "text/plain": [
              "'2008'"
            ]
          },
          "metadata": {
            "tags": []
          },
          "execution_count": 24
        }
      ]
    },
    {
      "cell_type": "code",
      "metadata": {
        "id": "EwZPHDsH8gSx"
      },
      "source": [
        "\"\"\" Sample data to answer the RQ: \n",
        "    {\n",
        "      2018: {\n",
        "        total: \n",
        "        1:\n",
        "        2:\n",
        "        >2:\n",
        "      }\n",
        "      2019: {\n",
        "        total: \n",
        "        1:\n",
        "        2:\n",
        "        >2:\n",
        "      }\n",
        "    }"
      ],
      "execution_count": null,
      "outputs": []
    }
  ]
}